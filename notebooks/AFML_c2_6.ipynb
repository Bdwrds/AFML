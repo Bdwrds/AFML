{
  "nbformat": 4,
  "nbformat_minor": 0,
  "metadata": {
    "colab": {
      "name": "AFML_c2.ipynb",
      "provenance": [],
      "collapsed_sections": [],
      "authorship_tag": "ABX9TyPSAv3Qn+khw/FounCskw2t",
      "include_colab_link": true
    },
    "kernelspec": {
      "name": "python3",
      "display_name": "Python 3"
    },
    "language_info": {
      "name": "python"
    }
  },
  "cells": [
    {
      "cell_type": "markdown",
      "metadata": {
        "id": "view-in-github",
        "colab_type": "text"
      },
      "source": [
        "<a href=\"https://colab.research.google.com/github/DoraTheExploring/AFML/blob/master/notebooks/AFML_c2_6.ipynb\" target=\"_parent\"><img src=\"https://colab.research.google.com/assets/colab-badge.svg\" alt=\"Open In Colab\"/></a>"
      ]
    },
    {
      "cell_type": "markdown",
      "metadata": {
        "id": "_9RXIW5gMGEs"
      },
      "source": [
        "# Advances in Financial Machine Learning\n"
      ]
    },
    {
      "cell_type": "markdown",
      "metadata": {
        "id": "cz5C14DkhgwD"
      },
      "source": [
        "Implementations of the code snippets from the book"
      ]
    },
    {
      "cell_type": "markdown",
      "metadata": {
        "id": "LztlYPWThsvJ"
      },
      "source": [
        "## Get Data for Demo"
      ]
    },
    {
      "cell_type": "code",
      "metadata": {
        "id": "3a6yosowPb4k"
      },
      "source": [
        "%%capture\n",
        "!wget https://raw.githubusercontent.com/chrisconlan/algorithmic-trading-with-python/1f615f488a3faa6274a701afccfcf977dfa83570/data/alternative_data/AWU.csv -O \"awu_alt.csv\"\n",
        "!wget https://raw.githubusercontent.com/chrisconlan/algorithmic-trading-with-python/1f615f488a3faa6274a701afccfcf977dfa83570/data/eod/AWU.csv -O \"awu_eod.csv\"\n"
      ],
      "execution_count": 2,
      "outputs": []
    },
    {
      "cell_type": "code",
      "metadata": {
        "colab": {
          "base_uri": "https://localhost:8080/"
        },
        "id": "rA1KSUlTPbNU",
        "outputId": "89de4f2b-1a8a-4d59-e5e0-e77036be477c"
      },
      "source": [
        "!ls -ls"
      ],
      "execution_count": 3,
      "outputs": [
        {
          "output_type": "stream",
          "text": [
            "total 144\n",
            " 24 -rw-r--r-- 1 root root  22773 May  4 18:13 awu_alt.csv\n",
            "116 -rw-r--r-- 1 root root 115288 May  4 18:13 awu_eod.csv\n",
            "  4 drwxr-xr-x 1 root root   4096 Apr 21 13:39 sample_data\n"
          ],
          "name": "stdout"
        }
      ]
    },
    {
      "cell_type": "markdown",
      "metadata": {
        "id": "60Ga9awJQJJ8"
      },
      "source": [
        "### Visualise Data"
      ]
    },
    {
      "cell_type": "code",
      "metadata": {
        "id": "nXzMn4ExPo_u"
      },
      "source": [
        "import pandas as pd\n",
        "import numpy as np\n",
        "import matplotlib.pyplot as plt"
      ],
      "execution_count": null,
      "outputs": []
    },
    {
      "cell_type": "code",
      "metadata": {
        "id": "Mq8om2xpPpB1"
      },
      "source": [
        "awu_eod = pd.read_csv('awu_eod.csv')\n",
        "awu_alt = pd.read_csv('awu_alt.csv')"
      ],
      "execution_count": null,
      "outputs": []
    },
    {
      "cell_type": "code",
      "metadata": {
        "colab": {
          "base_uri": "https://localhost:8080/",
          "height": 202
        },
        "id": "aA7UZ7QqQLQc",
        "outputId": "2a94795d-6dcd-4d02-860c-4690408b7366"
      },
      "source": [
        "awu_eod.head()"
      ],
      "execution_count": null,
      "outputs": [
        {
          "output_type": "execute_result",
          "data": {
            "text/html": [
              "<div>\n",
              "<style scoped>\n",
              "    .dataframe tbody tr th:only-of-type {\n",
              "        vertical-align: middle;\n",
              "    }\n",
              "\n",
              "    .dataframe tbody tr th {\n",
              "        vertical-align: top;\n",
              "    }\n",
              "\n",
              "    .dataframe thead th {\n",
              "        text-align: right;\n",
              "    }\n",
              "</style>\n",
              "<table border=\"1\" class=\"dataframe\">\n",
              "  <thead>\n",
              "    <tr style=\"text-align: right;\">\n",
              "      <th></th>\n",
              "      <th>date</th>\n",
              "      <th>open</th>\n",
              "      <th>close</th>\n",
              "      <th>low</th>\n",
              "      <th>high</th>\n",
              "      <th>volume</th>\n",
              "    </tr>\n",
              "  </thead>\n",
              "  <tbody>\n",
              "    <tr>\n",
              "      <th>0</th>\n",
              "      <td>2010-01-04</td>\n",
              "      <td>193.94</td>\n",
              "      <td>191.70</td>\n",
              "      <td>190.63</td>\n",
              "      <td>195.51</td>\n",
              "      <td>968029</td>\n",
              "    </tr>\n",
              "    <tr>\n",
              "      <th>1</th>\n",
              "      <td>2010-01-05</td>\n",
              "      <td>191.02</td>\n",
              "      <td>188.17</td>\n",
              "      <td>186.99</td>\n",
              "      <td>192.42</td>\n",
              "      <td>1427075</td>\n",
              "    </tr>\n",
              "    <tr>\n",
              "      <th>2</th>\n",
              "      <td>2010-01-06</td>\n",
              "      <td>187.17</td>\n",
              "      <td>186.50</td>\n",
              "      <td>185.10</td>\n",
              "      <td>190.07</td>\n",
              "      <td>879014</td>\n",
              "    </tr>\n",
              "    <tr>\n",
              "      <th>3</th>\n",
              "      <td>2010-01-07</td>\n",
              "      <td>185.03</td>\n",
              "      <td>185.19</td>\n",
              "      <td>183.63</td>\n",
              "      <td>186.64</td>\n",
              "      <td>1003719</td>\n",
              "    </tr>\n",
              "    <tr>\n",
              "      <th>4</th>\n",
              "      <td>2010-01-08</td>\n",
              "      <td>184.67</td>\n",
              "      <td>187.02</td>\n",
              "      <td>182.78</td>\n",
              "      <td>187.27</td>\n",
              "      <td>804716</td>\n",
              "    </tr>\n",
              "  </tbody>\n",
              "</table>\n",
              "</div>"
            ],
            "text/plain": [
              "         date    open   close     low    high   volume\n",
              "0  2010-01-04  193.94  191.70  190.63  195.51   968029\n",
              "1  2010-01-05  191.02  188.17  186.99  192.42  1427075\n",
              "2  2010-01-06  187.17  186.50  185.10  190.07   879014\n",
              "3  2010-01-07  185.03  185.19  183.63  186.64  1003719\n",
              "4  2010-01-08  184.67  187.02  182.78  187.27   804716"
            ]
          },
          "metadata": {
            "tags": []
          },
          "execution_count": 5
        }
      ]
    },
    {
      "cell_type": "code",
      "metadata": {
        "colab": {
          "base_uri": "https://localhost:8080/",
          "height": 202
        },
        "id": "7nWZzlG-RmXn",
        "outputId": "e8ae8c25-5415-416e-abc3-6aee65c5a040"
      },
      "source": [
        "awu_alt.head()"
      ],
      "execution_count": null,
      "outputs": [
        {
          "output_type": "execute_result",
          "data": {
            "text/html": [
              "<div>\n",
              "<style scoped>\n",
              "    .dataframe tbody tr th:only-of-type {\n",
              "        vertical-align: middle;\n",
              "    }\n",
              "\n",
              "    .dataframe tbody tr th {\n",
              "        vertical-align: top;\n",
              "    }\n",
              "\n",
              "    .dataframe thead th {\n",
              "        text-align: right;\n",
              "    }\n",
              "</style>\n",
              "<table border=\"1\" class=\"dataframe\">\n",
              "  <thead>\n",
              "    <tr style=\"text-align: right;\">\n",
              "      <th></th>\n",
              "      <th>date</th>\n",
              "      <th>value</th>\n",
              "    </tr>\n",
              "  </thead>\n",
              "  <tbody>\n",
              "    <tr>\n",
              "      <th>0</th>\n",
              "      <td>2015-03-31</td>\n",
              "      <td>23305.0</td>\n",
              "    </tr>\n",
              "    <tr>\n",
              "      <th>1</th>\n",
              "      <td>2015-04-01</td>\n",
              "      <td>20640.0</td>\n",
              "    </tr>\n",
              "    <tr>\n",
              "      <th>2</th>\n",
              "      <td>2015-04-02</td>\n",
              "      <td>23522.0</td>\n",
              "    </tr>\n",
              "    <tr>\n",
              "      <th>3</th>\n",
              "      <td>2015-04-06</td>\n",
              "      <td>24449.0</td>\n",
              "    </tr>\n",
              "    <tr>\n",
              "      <th>4</th>\n",
              "      <td>2015-04-07</td>\n",
              "      <td>21489.0</td>\n",
              "    </tr>\n",
              "  </tbody>\n",
              "</table>\n",
              "</div>"
            ],
            "text/plain": [
              "         date    value\n",
              "0  2015-03-31  23305.0\n",
              "1  2015-04-01  20640.0\n",
              "2  2015-04-02  23522.0\n",
              "3  2015-04-06  24449.0\n",
              "4  2015-04-07  21489.0"
            ]
          },
          "metadata": {
            "tags": []
          },
          "execution_count": 6
        }
      ]
    },
    {
      "cell_type": "code",
      "metadata": {
        "id": "AQMPxtKlRmZw"
      },
      "source": [
        "awu_eod.index = pd.to_datetime(awu_eod.date)\n",
        "awu_alt.index = pd.to_datetime(awu_alt.date)"
      ],
      "execution_count": null,
      "outputs": []
    },
    {
      "cell_type": "code",
      "metadata": {
        "colab": {
          "base_uri": "https://localhost:8080/",
          "height": 293
        },
        "id": "fkNtNXGGRqGA",
        "outputId": "0e966ed7-ac97-499a-c673-8fcf0b1d8b4a"
      },
      "source": [
        "fig, ax1 = plt.subplots()\n",
        "ax2 = ax1.twinx()\n",
        "ax1.plot(awu_eod.index, awu_eod.close, 'b-')\n",
        "ax2.plot(awu_eod.index, awu_eod.volume, 'r-')"
      ],
      "execution_count": null,
      "outputs": [
        {
          "output_type": "execute_result",
          "data": {
            "text/plain": [
              "[<matplotlib.lines.Line2D at 0x7f72562394d0>]"
            ]
          },
          "metadata": {
            "tags": []
          },
          "execution_count": 8
        },
        {
          "output_type": "display_data",
          "data": {
            "image/png": "[encoded data removed]",
            "text/plain": [
              "<Figure size 432x288 with 2 Axes>"
            ]
          },
          "metadata": {
            "tags": [],
            "needs_background": "light"
          }
        }
      ]
    },
    {
      "cell_type": "code",
      "metadata": {
        "colab": {
          "base_uri": "https://localhost:8080/",
          "height": 286
        },
        "id": "ooPSMKJHRqK2",
        "outputId": "68f8f205-0c9f-42e6-f6e8-43b468c2caf5"
      },
      "source": [
        "awu_alt.value.plot()"
      ],
      "execution_count": null,
      "outputs": [
        {
          "output_type": "execute_result",
          "data": {
            "text/plain": [
              "<matplotlib.axes._subplots.AxesSubplot at 0x7f7255c0df50>"
            ]
          },
          "metadata": {
            "tags": []
          },
          "execution_count": 9
        },
        {
          "output_type": "display_data",
          "data": {
            "image/png": "[encoded data removed]",
            "text/plain": [
              "<Figure size 432x288 with 1 Axes>"
            ]
          },
          "metadata": {
            "tags": [],
            "needs_background": "light"
          }
        }
      ]
    },
    {
      "cell_type": "markdown",
      "metadata": {
        "id": "An3eZWC4hWxA"
      },
      "source": [
        "## Chapter 2: Financial Data Structures"
      ]
    },
    {
      "cell_type": "code",
      "metadata": {
        "id": "H98Bqb-dh6nl"
      },
      "source": [
        "## Snippet 2.1: PCA Weights from Risk Distribution R\n",
        "\n",
        "def pcaWeights(cov, riskDist=None, riskTarget=1.):\n",
        "  # Following the risk allo distribution, match riskTarget\n",
        "  eVal, eVec = np.linalg.eigh(cov) # must be Hermitian\n",
        "  indices = eVal.argsort()[::-1]# args for sorting eVal desc\n",
        "  eVal, eVec = eVal[indices], eVec[:, indices]\n",
        "  if riskDist is None:\n",
        "    riskDist=np.zeros(cov.shape[0])\n",
        "    riskDist[-1]=1\n",
        "  loads = riskTarget* (riskDist/eVal)**.5\n",
        "  wghts = np.dot(eVec, np.reshape(loads, (-1,1)))\n",
        "  #ctr = loads(/riskTarget)**2*eVal #verify riskDist\n",
        "  return wghts"
      ],
      "execution_count": null,
      "outputs": []
    },
    {
      "cell_type": "code",
      "metadata": {
        "id": "wy_9ltNEiGg3"
      },
      "source": [
        "## Snippet 2.2: Form GAPS series, detract it from prices"
      ],
      "execution_count": null,
      "outputs": []
    },
    {
      "cell_type": "code",
      "metadata": {
        "id": "sIN6kqIbiKT0"
      },
      "source": [
        "## Snippet 2.3: Non-negative rolled price series"
      ],
      "execution_count": null,
      "outputs": []
    },
    {
      "cell_type": "code",
      "metadata": {
        "id": "ySfjTW5aMCd7"
      },
      "source": [
        "## Snippet 2.4: The symmetric cusum filter\n",
        "\"\"\"\n",
        "Quality control method designed to detect a shift in the mean value of a measure quantity away from a target value.\n",
        "\n",
        "\"\"\"\n",
        "\n",
        "def getCusumEvents(raw, threshold):\n",
        "  events, pos, neg = [], 0, 0\n",
        "  diff = raw.diff()\n",
        "  for ii in diff.index[1:]:\n",
        "    pos, neg = max(0, pos+diff.loc[ii]), min(0, neg+diff.loc[ii])\n",
        "    if neg < -threshold:\n",
        "      neg=0; events.append(ii)\n",
        "    elif pos> threshold:\n",
        "      pos=0; events.append(ii)\n",
        "  return(pd.DatetimeIndex(events))\n",
        "\n",
        "\n",
        "def getCusumData(raw, threshold):\n",
        "  data, pos, neg = [], 0, 0\n",
        "  data.append([pos, neg])\n",
        "  diff = raw.diff()\n",
        "  for ii in diff.index[1:]:\n",
        "    pos, neg = max(0, pos+diff.loc[ii]), min(0, neg+diff.loc[ii])\n",
        "    if neg < -threshold:\n",
        "      neg=0\n",
        "    elif pos> threshold:\n",
        "      pos=0; \n",
        "    data.append([pos, neg])\n",
        "  return(pd.DataFrame(data, columns=['pos', 'neg']))\n"
      ],
      "execution_count": null,
      "outputs": []
    },
    {
      "cell_type": "code",
      "metadata": {
        "colab": {
          "base_uri": "https://localhost:8080/"
        },
        "id": "T7FVAiWiMFg0",
        "outputId": "67eeb94d-1ef1-4f4e-b2c1-f27791086eb2"
      },
      "source": [
        "threshold = 0.3\n",
        "series = awu_alt.value\n",
        "series_log = np.log(series)\n",
        "events = getCusumEvents(series_log, threshold)\n",
        "print(len(series))\n",
        "print(len(events))\n",
        "print(events[:5])"
      ],
      "execution_count": null,
      "outputs": [
        {
          "output_type": "stream",
          "text": [
            "1198\n",
            "147\n",
            "DatetimeIndex(['2015-04-23', '2015-05-20', '2015-06-02', '2015-07-02',\n",
            "               '2015-07-24'],\n",
            "              dtype='datetime64[ns]', freq=None)\n"
          ],
          "name": "stdout"
        }
      ]
    },
    {
      "cell_type": "code",
      "metadata": {
        "colab": {
          "base_uri": "https://localhost:8080/",
          "height": 565
        },
        "id": "RYrzejD5esI1",
        "outputId": "92689cd2-c599-4829-a53c-927e85123e23"
      },
      "source": [
        "series_sub = series[-100:]\n",
        "events_sub = events[events.slice_indexer(series_sub.index.min())]\n",
        "\n",
        "plt.figure(figsize=(10, 8), dpi=80)\n",
        "plt.plot(series_sub, 'r-')\n",
        "for dte in events_sub.to_pydatetime():\n",
        "    plt.axvline(x=dte, color='k', linestyle='--')\n",
        "plt.xlabel('EOD Prices')\n",
        "plt.ylabel('Date')\n",
        "plt.title('EOD Prices with Events')\n",
        "plt.grid(True)\n",
        "plt.show()"
      ],
      "execution_count": null,
      "outputs": [
        {
          "output_type": "display_data",
          "data": {
            "image/png": "[encoded data removed]",
            "text/plain": [
              "<Figure size 800x640 with 1 Axes>"
            ]
          },
          "metadata": {
            "tags": [],
            "needs_background": "light"
          }
        }
      ]
    },
    {
      "cell_type": "code",
      "metadata": {
        "id": "aVSc404X6SkN",
        "colab": {
          "base_uri": "https://localhost:8080/",
          "height": 686
        },
        "outputId": "9059a714-0d23-49bf-ad79-6c7dc271c742"
      },
      "source": [
        "cusumData = getCusumData(series_log, threshold)\n",
        "cusumData.index=series_log.index\n",
        "print(cusumData.head())\n",
        "\n",
        "cusumData_sub = cusumData.loc[cusumData.index>series_sub.index.min()]\n",
        "\n",
        "plt.figure(figsize=(10, 8), dpi=80)\n",
        "plt.plot(cusumData_sub.pos, 'b-')\n",
        "plt.plot(cusumData_sub.neg, 'r-')\n",
        "for dte in events_sub.to_pydatetime():\n",
        "    plt.axvline(x=dte, color='k', linestyle='--')\n",
        "plt.xlabel('EOD Prices')\n",
        "plt.ylabel('Date')\n",
        "plt.title('EOD Prices with Events')\n",
        "plt.grid(True)\n",
        "plt.show()"
      ],
      "execution_count": null,
      "outputs": [
        {
          "output_type": "stream",
          "text": [
            "                 pos       neg\n",
            "date                          \n",
            "2015-03-31  0.000000  0.000000\n",
            "2015-04-01  0.000000 -0.121437\n",
            "2015-04-02  0.130705  0.000000\n",
            "2015-04-06  0.169358  0.000000\n",
            "2015-04-07  0.040310 -0.129048\n"
          ],
          "name": "stdout"
        },
        {
          "output_type": "display_data",
          "data": {
            "image/png": "[encoded data removed]",
            "text/plain": [
              "<Figure size 800x640 with 1 Axes>"
            ]
          },
          "metadata": {
            "tags": [],
            "needs_background": "light"
          }
        }
      ]
    },
    {
      "cell_type": "code",
      "metadata": {
        "id": "TD4HE3YT6Sm3"
      },
      "source": [
        ""
      ],
      "execution_count": null,
      "outputs": []
    },
    {
      "cell_type": "markdown",
      "metadata": {
        "id": "UdyTk2TmNOIz"
      },
      "source": [
        "## Chapter 3: Labeling"
      ]
    },
    {
      "cell_type": "code",
      "metadata": {
        "id": "68DtIZYFiaQr"
      },
      "source": [
        "## Snippet 3.1: Daily Volatility Estimates\n",
        "\n",
        "def getDailyVol(close, span=100):\n",
        "  df = close.index.searchsorted(close.index-pd.Timedelta(days=1))\n",
        "  df = df[df>0]\n",
        "  df = pd.Series(close.index[df-1], index=close.index[close.shape[0]-df.shape[0]:])\n",
        "  df = close.loc[df.index]/ close.loc[df.values].values-1\n",
        "  df = df.ewm(span=span).std()\n",
        "  return df\n",
        "\n",
        "def getDailyVol(close,span0=100):\n",
        "    # daily vol reindexed to close\n",
        "    df0=close.index.searchsorted(close.index-pd.Timedelta(days=1))\n",
        "    df0=df0[df0>0]   \n",
        "    df0=(pd.Series(close.index[df0-1], \n",
        "                   index=close.index[close.shape[0]-df0.shape[0]:]))   \n",
        "    try:\n",
        "        df0=close.loc[df0.index]/close.loc[df0.values].values-1 # daily rets\n",
        "    except Exception as e:\n",
        "        print(f'error: {e}\\nplease confirm no duplicate indices')\n",
        "    df0=df0.ewm(span=span0).std().rename('dailyVol')\n",
        "    return df0"
      ],
      "execution_count": null,
      "outputs": []
    },
    {
      "cell_type": "code",
      "metadata": {
        "colab": {
          "base_uri": "https://localhost:8080/",
          "height": 288
        },
        "id": "AS-aW3JPMFq0",
        "outputId": "e3b5e3da-e9fb-4ac2-d225-01e1a68fc5bc"
      },
      "source": [
        "getDailyVol(series, span=20).plot()"
      ],
      "execution_count": null,
      "outputs": [
        {
          "output_type": "execute_result",
          "data": {
            "text/plain": [
              "<matplotlib.axes._subplots.AxesSubplot at 0x7f63565d65d0>"
            ]
          },
          "metadata": {
            "tags": []
          },
          "execution_count": 13
        },
        {
          "output_type": "display_data",
          "data": {
            "image/png": "[encoded data removed]",
            "text/plain": [
              "<Figure size 432x288 with 1 Axes>"
            ]
          },
          "metadata": {
            "tags": [],
            "needs_background": "light"
          }
        }
      ]
    },
    {
      "cell_type": "code",
      "metadata": {
        "id": "uwMZPbozidmP"
      },
      "source": [
        "## Snippet 3.2: Tripple-Barrier Labelling method\n",
        "\n",
        "def triple_barrier(close, events, pts):#, molecule\n",
        "  events_ = events#.loc[molecule]\n",
        "  out = events_[['t1']].copy(deep=True)\n",
        "  if pts[0]>0: pt=pts[0]*events_['target']\n",
        "  else: pt = pd.Series(index=events.index)\n",
        "  if pts[1]>0: s1=-pts[1]*events_['target']\n",
        "  else: s1 = pd.Series(index=events.index)\n",
        "  for loc, t1 in events_['t1'].fillna(close.index[-1].iteritems()):\n",
        "    df=close[loc:t1]\n",
        "    df=(df/close[loc]-1)*events_.at[loc, 'side']\n",
        "    out.loc[loc, 's1']=df[df<s1[loc]].index.min()\n",
        "    out.loc[loc, 'pt']=df[df>pt[loc]].index.min()\n",
        "  return out\n"
      ],
      "execution_count": null,
      "outputs": []
    },
    {
      "cell_type": "code",
      "metadata": {
        "id": "aWbqeqNqijhr"
      },
      "source": [
        "## Snippet 3.3: getting time of first touch\n",
        "\n",
        "def getEvents(close, tevents, pts, target, minRet, numThreads, t1=False):\n",
        "  target=target.loc[tevents]\n",
        "  target=target[target>minRet]\n",
        "  print('a')\n",
        "  if t1 is False: t1=pd.Series(pd.NaT, index=tevents)\n",
        "  print('b')\n",
        "  side_=pd.Series(1., index=target.index)\n",
        "  print('c')\n",
        "  events=pd.concat({'t1':t1, 'target':target, 'side':side_}, \\\n",
        "                   axis=1).dropna(subject=['target'])\n",
        "  print('d')\n",
        "  df=mpPandasObj(func=triple_barrier, pdObj=('molecule', events.index), \\\n",
        "                 numThreads=numThreads, close=close, events=events, pts=[pts, pts])\n",
        "  print('e')\n",
        "  events['t1']=df.dropna(how='all').min(axis=1)\n",
        "  events=events.drop('side', axis=1)\n",
        "  return events\n"
      ],
      "execution_count": null,
      "outputs": []
    },
    {
      "cell_type": "code",
      "metadata": {
        "id": "IEz0g48YimCw"
      },
      "source": [
        "## Snippet 3.4: Adding vertical barrier\n",
        "\n",
        "numDays=1\n",
        "t1 = close.index.searchsorted(tevents+pd.Timedelta(days=numDays))\n",
        "t1 = t1[t1<close.shape[0]]\n",
        "t1 = pd.Series(close.index[t1], index=tevents[:t1.shape[0]])\n"
      ],
      "execution_count": null,
      "outputs": []
    },
    {
      "cell_type": "code",
      "metadata": {
        "id": "rELakPYpnZjJ"
      },
      "source": [
        "## Snippet 3.5: Labeling for side and size\n",
        "\n",
        "def getBins(events, close):\n",
        "  events_=events.dropna(subset=['t1'])\n",
        "  px = events_.index.union(events_['t1'].values).drop_duplicates()\n",
        "  px = close.reindex(px, method='bfill')\n",
        "  out = pd.DataFrame(index=events_.index)\n",
        "  out['ret']=px.loc[events_['t1'].values].values/px.loc[events_.index]-1\n",
        "  out['bin']=np.sign(out['ret'])\n",
        "  return out\n",
        "  "
      ],
      "execution_count": null,
      "outputs": []
    },
    {
      "cell_type": "code",
      "metadata": {
        "id": "cr3j_vsAips2"
      },
      "source": [
        "## Snippet 3.6: Expanding getEvents to incorp meta-labeling\n",
        "\n",
        "def getEvents(close, tevents, pts, target, minRet, numThreads, t1=False, side=None):\n",
        "  target=target.loc[tevents]\n",
        "  target=target[target>minRet]\n",
        "  if t1 is False: t1=pd.Series(pd.NaT, index=tevents)\n",
        "  if side is None: side_, pts_=pd.Series(1., index=target.index), [pts[0], pts[0]]\n",
        "  else: side_, pts=side.loc[target.index], pts[:2]\n",
        "  events=pd.concat({'t1':t1, 'target':target, 'side':side_}, \\\n",
        "                   axis=1).dropna(subject=['target'])\n",
        "  df=mpPandasObj(func=triple_barrier, pdObj=('molecule', events.index), \\\n",
        "                 numThreads=numThreads, close=close, events=events, pts=[pts, pts])\n",
        "  events['t1']=df.dropna(how='all').min(axis=1)\n",
        "  if side is None: events=events.drop('side', axis=1)\n",
        "  return events\n"
      ],
      "execution_count": null,
      "outputs": []
    },
    {
      "cell_type": "code",
      "metadata": {
        "id": "2o2NoErAityW"
      },
      "source": [
        "## Snippet 3.7: Expanding getBins to incorp meta-labeling\n",
        "\n",
        "def getBins(events, close):\n",
        "    '''\n",
        "    Compute event's outcome (including side information, if provided).\n",
        "    events is a DataFrame where:\n",
        "    -events.index is event's starttime\n",
        "    -events['t1'] is event's endtime\n",
        "    -events['trgt'] is event's target\n",
        "    -events['side'] (optional) implies the algo's position side\n",
        "    Case 1: ('side' not in events): bin in (-1,1) <-label by price action\n",
        "    Case 2: ('side' in events): bin in (0,1) <-label by pnl (meta-labeling)\n",
        "    '''\n",
        "    #1) prices aligned with events\n",
        "    events_=events.dropna(subset=['t1'])\n",
        "    px=events_.index.union(events_['t1'].values).drop_duplicates()\n",
        "    px=close.reindex(px,method='bfill')\n",
        "    #2) create out object\n",
        "    out=pd.DataFrame(index=events_.index)\n",
        "    out['ret']=px.loc[events_['t1'].values].values/px.loc[events_.index]-1\n",
        "    if 'side' in events_:out['ret']*=events_['side'] # meta-labeling\n",
        "    out['bin']=np.sign(out['ret'])\n",
        "    if 'side' in events_:out.loc[out['ret']<=0,'bin']=0 # meta-labeling\n",
        "    return out\n",
        "\n",
        "labels = getBins(events, close)\n",
        "print(labels)\n",
        "print(labels.bin.value_counts())"
      ],
      "execution_count": null,
      "outputs": []
    },
    {
      "cell_type": "code",
      "metadata": {
        "id": "dFqZcgr6iyZM"
      },
      "source": [
        "## Snippet 3.8 Dropping under-populated labels\n",
        "\n",
        "def dropLabels(events, minPct=.05):\n",
        "    # apply weights, drop labels with insufficient examples\n",
        "    while True:\n",
        "      df0=events['bin'].value_counts(normalize=True)\n",
        "      if df0.min()>minPct or df0.shape[0]<3:break\n",
        "      print('dropped label: ', df0.argmin(),df0.min())\n",
        "      events=events[events['bin']!=df0.argmin()]\n",
        "    return events\n"
      ],
      "execution_count": null,
      "outputs": []
    },
    {
      "cell_type": "code",
      "metadata": {
        "id": "Pm6HRfgdMFs9"
      },
      "source": [
        ""
      ],
      "execution_count": null,
      "outputs": []
    },
    {
      "cell_type": "code",
      "metadata": {
        "id": "4M1POAna3Vxe"
      },
      "source": [
        ""
      ],
      "execution_count": null,
      "outputs": []
    },
    {
      "cell_type": "code",
      "metadata": {
        "id": "xUz-Nc92i6q8"
      },
      "source": [
        ""
      ],
      "execution_count": null,
      "outputs": []
    },
    {
      "cell_type": "markdown",
      "metadata": {
        "id": "ihHj7fZTi7DP"
      },
      "source": [
        "## Chapter 4: Sample Weights"
      ]
    },
    {
      "cell_type": "code",
      "metadata": {
        "id": "UnWVC0sFi93g"
      },
      "source": [
        "## Snippet 4.1: Estimating uniqueness of a label"
      ],
      "execution_count": null,
      "outputs": []
    },
    {
      "cell_type": "code",
      "metadata": {
        "id": "8vDriqYRjBy4"
      },
      "source": [
        "## Snippet 4.2: Estimating the average uniqueness of a label"
      ],
      "execution_count": null,
      "outputs": []
    },
    {
      "cell_type": "code",
      "metadata": {
        "id": "CQQVDOaojJHp"
      },
      "source": [
        "## Snippet 4.3: Build an indicator matrix"
      ],
      "execution_count": null,
      "outputs": []
    },
    {
      "cell_type": "code",
      "metadata": {
        "id": "c-pAcw2ejLZ-"
      },
      "source": [
        "## Snippet 4.4: Compute average uniqueness"
      ],
      "execution_count": null,
      "outputs": []
    },
    {
      "cell_type": "code",
      "metadata": {
        "id": "3XtRZ_aXjPUk"
      },
      "source": [
        "## Snippet 4.5: Return sample from sequential bootstrap"
      ],
      "execution_count": null,
      "outputs": []
    },
    {
      "cell_type": "code",
      "metadata": {
        "id": "LtawAvhVjTNe"
      },
      "source": [
        "## Snippet 4.6: Example of sequential bootstrap"
      ],
      "execution_count": null,
      "outputs": []
    },
    {
      "cell_type": "code",
      "metadata": {
        "id": "pPONrGPpjVqC"
      },
      "source": [
        "## Snippet 4.7: Generating random t1 series"
      ],
      "execution_count": null,
      "outputs": []
    },
    {
      "cell_type": "code",
      "metadata": {
        "id": "leA-pzElji5H"
      },
      "source": [
        "## Snippet 4.8: Uniqueness from standard and sequential bootstraps"
      ],
      "execution_count": null,
      "outputs": []
    },
    {
      "cell_type": "code",
      "metadata": {
        "id": "PGdTGqPKjmeI"
      },
      "source": [
        "## Snippet 4.9: Multi-threaded monte-carlo "
      ],
      "execution_count": null,
      "outputs": []
    },
    {
      "cell_type": "code",
      "metadata": {
        "id": "pWluLDzKjrNW"
      },
      "source": [
        "## Snippet 4.10 Determination of sample weight by absolute return attribution"
      ],
      "execution_count": null,
      "outputs": []
    },
    {
      "cell_type": "code",
      "metadata": {
        "id": "UZRjVCPPjvkE"
      },
      "source": [
        "## Snippet 4.11: Implementation of time-decay factors"
      ],
      "execution_count": null,
      "outputs": []
    },
    {
      "cell_type": "markdown",
      "metadata": {
        "id": "mdZW3CzojziG"
      },
      "source": [
        "## Chapter 5: Fractionally Differentiated Features"
      ]
    },
    {
      "cell_type": "code",
      "metadata": {
        "id": "bZBe4qTAj2sz"
      },
      "source": [
        "## Snippet 5.1: Weighting function"
      ],
      "execution_count": null,
      "outputs": []
    },
    {
      "cell_type": "code",
      "metadata": {
        "id": "CH9pjh3Oj6Hu"
      },
      "source": [
        "## Snippet 5.2: Standard fracdiff (expanding window)"
      ],
      "execution_count": null,
      "outputs": []
    },
    {
      "cell_type": "code",
      "metadata": {
        "id": "bsu8SDZNj90r"
      },
      "source": [
        "## Snippet 5.3: The new fixed-width window fracdiff method"
      ],
      "execution_count": null,
      "outputs": []
    },
    {
      "cell_type": "code",
      "metadata": {
        "id": "UI8_HQiZkCnm"
      },
      "source": [
        "## Snippet 5.4: Finding the minimum D value that passes the ADF test"
      ],
      "execution_count": null,
      "outputs": []
    },
    {
      "cell_type": "markdown",
      "metadata": {
        "id": "rtHLRlA5kI1l"
      },
      "source": [
        "### Crossover with Algo Python"
      ]
    },
    {
      "cell_type": "code",
      "metadata": {
        "id": "thbH6mHThhLu"
      },
      "source": [
        "def calculate_non_uniform_lagged_change(series: pd.Series, n_days: int):\n",
        "    \"\"\"\n",
        "    Use pd.Series.searchsorted to measure the lagged change in a non-uniformly \n",
        "    spaced time series over n_days of calendar time. \n",
        "    \"\"\"\n",
        "    # Get mapping from now to n_days ago at every point\n",
        "    _timedelta: pd.Timedelta = pd.Timedelta(days=n_days)\n",
        "    _idx: pd.Series = series.index.searchsorted(series.index - _timedelta)\n",
        "    _idx = _idx[_idx > 0]\n",
        "    # Get the last len(series) - n_days values\n",
        "    _series = series.iloc[-_idx.shape[0]:]\n",
        "    # Build a padding of NA values\n",
        "    _pad_length = series.shape[0] - _idx.shape[0]\n",
        "    _na_pad = pd.Series(None, index=series.index[:_pad_length])\n",
        "    # Get the corresonding lagged values\n",
        "    _lagged_series = series.iloc[_idx]\n",
        "    # Measure the difference\n",
        "    _diff = pd.Series(_series.values-_lagged_series.values, index=_series.index)\n",
        "    return pd.concat([_na_pad, _diff])\n",
        "\n",
        "def calculate_cusum_events(series: pd.Series, \n",
        "    filter_threshold: float) -> pd.DatetimeIndex:\n",
        "    \"\"\"\n",
        "    Calculate symmetric cusum filter and corresponding events\n",
        "    \"\"\"\n",
        "    event_dates = list()\n",
        "    s_up = 0\n",
        "    s_down = 0\n",
        "    for date, price in series.items():\n",
        "        s_up = max(0, s_up + price)\n",
        "        s_down = min(0, s_down + price)\n",
        "        if s_up > filter_threshold:\n",
        "            s_up = 0\n",
        "            event_dates.append(date)\n",
        "        elif s_down < -filter_threshold:\n",
        "            s_down = 0\n",
        "            event_dates.append(date)\n",
        "    return pd.DatetimeIndex(event_dates)\n",
        "\n",
        "from typing import Tuple\n",
        "\n",
        "\n",
        "def calculate_events_for_revenue_series(series: pd.Series, \n",
        "    filter_threshold: float, lookback: int=365) -> pd.DatetimeIndex:\n",
        "    \"\"\"\n",
        "    Calculate the symmetric cusum filter to generate events on YoY changes in \n",
        "    the log revenue series\n",
        "    \"\"\"\n",
        "    series = np.log(series)\n",
        "    series = calculate_non_uniform_lagged_change(series, lookback)\n",
        "    return calculate_cusum_events(series, filter_threshold)\n",
        "\n",
        "\n",
        "def calculate_events(revenue_series: pd.Series, threshold):\n",
        "    return calculate_events_for_revenue_series(\n",
        "        revenue_series,\n",
        "        filter_threshold=threshold,\n",
        "        lookback=1,\n",
        "    )\n",
        "\n",
        "\n",
        "def compute_triple_barrier_labels(\n",
        "    price_series: pd.Series, \n",
        "    event_index: pd.Series, \n",
        "    time_delta_days: int, \n",
        "    upper_delta: float=None, \n",
        "    lower_delta: float=None, \n",
        "    vol_span: int=20, \n",
        "    upper_z: float=None,\n",
        "    lower_z: float=None,\n",
        "    upper_label: int=1, \n",
        "    lower_label: int=-1) -> Tuple[pd.Series, pd.Series]:\n",
        "    \"\"\"\n",
        "    Calculate event labels according to the triple-barrier method. \n",
        "    Return a series with both the original events and the labels. Labels 1, 0, \n",
        "    and -1 correspond to upper barrier breach, vertical barrier breach, and \n",
        "    lower barrier breach, respectively. \n",
        "    Also return series where the index is the start date of the label and the \n",
        "    values are the end dates of the label.\n",
        "    \"\"\"\n",
        "\n",
        "    timedelta = pd.Timedelta(days=time_delta_days)\n",
        "    series = pd.Series(np.log(price_series.values), index=price_series.index)\n",
        "\n",
        "    # A list with elements of {-1, 0, 1} indicating the outcome of the events\n",
        "    labels = list()\n",
        "    label_dates = list()\n",
        "\n",
        "    if upper_z or lower_z:\n",
        "        volatility = series.ewm(span=vol_span).std()\n",
        "        volatility *= np.sqrt(time_delta_days / vol_span)\n",
        "\n",
        "    for event_date in event_index:\n",
        "        date_barrier = event_date + timedelta\n",
        "\n",
        "        start_price = series.loc[event_date]\n",
        "        log_returns = series.loc[event_date:date_barrier] - start_price\n",
        "\n",
        "        # First element of tuple is 1 or -1 indicating upper or lower barrier\n",
        "        # Second element of tuple is first date when barrier was crossed\n",
        "        candidates: List[Tuple[int, pd.Timestamp]] = list()\n",
        "\n",
        "        # Add the first upper or lower date to candidates\n",
        "        if upper_delta:\n",
        "            _date = log_returns[log_returns > upper_delta].first_valid_index()\n",
        "            if _date:\n",
        "                candidates.append((upper_label, _date))\n",
        "    \n",
        "        if lower_delta:\n",
        "            _date = log_returns[log_returns < lower_delta].first_valid_index()\n",
        "            if _date:\n",
        "                candidates.append((lower_label, _date))\n",
        "\n",
        "        # Add the first upper_z and lower_z to candidates\n",
        "        if upper_z:\n",
        "            upper_barrier = upper_z * volatility[event_date]\n",
        "            _date = log_returns[log_returns > upper_barrier].first_valid_index()\n",
        "            if _date:\n",
        "                candidates.append((upper_label, _date))\n",
        "\n",
        "        if lower_z:\n",
        "            lower_barrier = lower_z * volatility[event_date]\n",
        "            _date = log_returns[log_returns < lower_barrier].first_valid_index()\n",
        "            if _date:\n",
        "                candidates.append((lower_label, _date))\n",
        "\n",
        "        if candidates:\n",
        "            # If any candidates, return label for first date\n",
        "            label, label_date = min(candidates, key=lambda x: x[1])\n",
        "        else:\n",
        "            # If there were no candidates, time barrier was touched\n",
        "            label, label_date = 0, date_barrier\n",
        "\n",
        "        labels.append(label)\n",
        "        label_dates.append(label_date)\n",
        "\n",
        "    label_series = pd.Series(labels, index=event_index)\n",
        "    event_spans = pd.Series(label_dates, index=event_index)\n",
        "\n",
        "    return label_series, event_spans\n",
        "\n",
        "\n",
        "def calculate_labels(price_series, event_index, label_threshold, time_delta_days) -> Tuple[pd.Series, pd.Series]:\n",
        "    \"\"\"\n",
        "    Calculate labels based on the triple barrier method. Return a series of \n",
        "    event labels index by event start date, and return a series of event end \n",
        "    dates indexed by event start date.\n",
        "    \"\"\"\n",
        "\n",
        "    # Remove event that don't have a proper chance to materialize\n",
        "    time_delta_days = time_delta_days\n",
        "    max_date = price_series.index.max()\n",
        "    cutoff = max_date - pd.Timedelta(days=time_delta_days)\n",
        "    event_index = event_index[event_index <= cutoff]\n",
        "\n",
        "    # Use triple barrier method\n",
        "    event_labels, event_spans = compute_triple_barrier_labels(\n",
        "        price_series,\n",
        "        event_index,\n",
        "        time_delta_days=time_delta_days,\n",
        "        upper_z = label_threshold,\n",
        "        lower_z = -label_threshold,\n",
        "    )\n",
        "\n",
        "    return event_labels, event_spans\n"
      ],
      "execution_count": null,
      "outputs": []
    },
    {
      "cell_type": "markdown",
      "metadata": {
        "id": "K8ZVkNvQaE6R"
      },
      "source": [
        "### Questions"
      ]
    },
    {
      "cell_type": "code",
      "metadata": {
        "id": "CYhLQFy1Zh0B"
      },
      "source": [
        "series = awu_alt.value\n",
        "close = series\n",
        "\n",
        "threshold = close.std()\n",
        "tevents = getCusumEvents(close, threshold)\n",
        "\n",
        "numDays=1\n",
        "t1 = close.index.searchsorted(tevents+pd.Timedelta(days=numDays))\n",
        "t1 = t1[t1<close.shape[0]]\n",
        "t1 = pd.Series(close.index[t1], index=tevents[:t1.shape[0]])\n"
      ],
      "execution_count": null,
      "outputs": []
    },
    {
      "cell_type": "code",
      "metadata": {
        "id": "AiOy1cK4KdDz"
      },
      "source": [
        "from tqdm import tqdm, tqdm_notebook"
      ],
      "execution_count": null,
      "outputs": []
    },
    {
      "cell_type": "code",
      "metadata": {
        "id": "YtNpg2-Tf9pB"
      },
      "source": [
        "dailyVol = getDailyVol(close, span0=100)"
      ],
      "execution_count": null,
      "outputs": []
    },
    {
      "cell_type": "code",
      "metadata": {
        "colab": {
          "base_uri": "https://localhost:8080/"
        },
        "id": "RrmayTlkrH0z",
        "outputId": "cd17a84a-ae28-40ff-d69e-57455ee1e6f9"
      },
      "source": [
        "# Get events, labels, weights, and features\n",
        "\n",
        "dailyVol=getDailyVol(close_alt)\n",
        "\n",
        "event_index = calculate_events(awu_alt.value, threshold=dailyVol.mean()*2)\n",
        "event_labels, event_spans = calculate_labels(close, event_index, label_threshold=1, time_delta_days=1)\n",
        "\n",
        "print(close.shape)\n",
        "print(close_alt.shape)\n",
        "print(event_index.shape)\n",
        "print(event_labels.shape)\n",
        "print(event_spans.shape)\n",
        "print(event_labels.value_counts())"
      ],
      "execution_count": null,
      "outputs": [
        {
          "output_type": "stream",
          "text": [
            "/usr/local/lib/python3.7/dist-packages/ipykernel_launcher.py:14: DeprecationWarning: The default dtype for empty Series will be 'object' instead of 'float64' in a future version. Specify a dtype explicitly to silence this warning.\n",
            "  \n"
          ],
          "name": "stderr"
        },
        {
          "output_type": "stream",
          "text": [
            "(1737,)\n",
            "(1737,)\n",
            "(174,)\n",
            "(174,)\n",
            "(174,)\n",
            " 1    62\n",
            " 0    60\n",
            "-1    52\n",
            "dtype: int64\n"
          ],
          "name": "stdout"
        }
      ]
    },
    {
      "cell_type": "code",
      "metadata": {
        "id": "X-jHQ5vBgUoQ"
      },
      "source": [
        ""
      ],
      "execution_count": null,
      "outputs": []
    },
    {
      "cell_type": "code",
      "metadata": {
        "id": "fCJwGJCNpt7A"
      },
      "source": [
        ""
      ],
      "execution_count": null,
      "outputs": []
    },
    {
      "cell_type": "code",
      "metadata": {
        "id": "6Rg-NtNoEawD"
      },
      "source": [
        "def addVerticalBarrier(tEvents, close, numDays=1):\n",
        "    # get the index of the event in price series\n",
        "    t1=close.index.searchsorted(tEvents+pd.Timedelta(days=numDays))\n",
        "    # ensure the index is less than max length\n",
        "    t1=t1[t1<close.shape[0]]\n",
        "    # change to series, with index being the event, and lookforward being close date\n",
        "    t1=(pd.Series(close.index[t1],index=tEvents[:t1.shape[0]]))\n",
        "    return t1\n",
        "\n",
        "def getEvents(close, tEvents, ptSl, trgt, minRet, numThreads, t1=False, side=None):\n",
        "    #1) get target\n",
        "    trgt = trgt.reindex(index = tEvents)\n",
        "    trgt=trgt.loc[tEvents]\n",
        "    print(\"Worked fine\")\n",
        "    #trgt=trgt[trgt>minRet] # minRet\n",
        "    #2) get t1 (max holding period)\n",
        "    if t1 is False:t1=pd.Series(pd.NaT, index=tEvents)\n",
        "    #3) form events object, apply stop loss on t1\n",
        "    if side is None:side_,ptSl_=pd.Series(1.,index=trgt.index), [ptSl[0],ptSl[0]]\n",
        "    #else: side_,ptSl_=side.reindex(index=trgt.index).dropna(),ptSl[:2]\n",
        "    else: side_,ptSl_=side.loc[trgt.index],ptSl[:2]\n",
        "    events=(pd.concat({'t1':t1,'trgt':trgt,'side':side_}, axis=1)\n",
        "            .dropna(subset=['trgt']))\n",
        "    df0=mpPandasObj(func=applyPtSlOnT1,pdObj=('molecule',events.index),\n",
        "                    numThreads=numThreads,close=close,events=events,\n",
        "                    ptSl=ptSl_)\n",
        "    events['t1']=df0.dropna(how='all').min(axis=1) # pd.min ignores nan\n",
        "    if side is None:events=events.drop('side',axis=1)\n",
        "    return events\n",
        "\n",
        "def applyPtSlOnT1(close,events,ptSl,molecule):\n",
        "     # apply stop loss/profit taking, if it takes place before t1 (end of event)\n",
        "    events_=events.loc[molecule]\n",
        "    out=events_[['t1']].copy(deep=True)\n",
        "    if ptSl[0]>0: pt=ptSl[0]*events_['trgt']\n",
        "    else: pt=pd.Series(index=events.index) # NaNs\n",
        "    if ptSl[1]>0: sl=-ptSl[1]*events_['trgt']\n",
        "    else: sl=pd.Series(index=events.index) # NaNs\n",
        "    for loc,t1 in events_['t1'].fillna(close.index[-1]).iteritems():\n",
        "        df0=close[loc:t1] # path prices\n",
        "        df0=(df0/close[loc]-1)*events_.at[loc,'side'] # path returns\n",
        "        out.loc[loc,'sl']=df0[df0<sl[loc]].index.min() # earliest stop loss\n",
        "        out.loc[loc,'pt']=df0[df0>pt[loc]].index.min() # earliest profit taking\n",
        "    return out   \n",
        "\n",
        "def getDailyVol(close,span0=100):\n",
        "    # daily vol reindexed to close\n",
        "    df0=close.index.searchsorted(close.index-pd.Timedelta(days=1))\n",
        "    df0=df0[df0>0]   \n",
        "    df0=(pd.Series(close.index[df0-1], \n",
        "                   index=close.index[close.shape[0]-df0.shape[0]:]))   \n",
        "    try:\n",
        "        df0=close.loc[df0.index]/close.loc[df0.values].values-1 # daily rets\n",
        "    except Exception as e:\n",
        "        print(f'error: {e}\\nplease confirm no duplicate indices')\n",
        "    df0=df0.ewm(span=span0).std().rename('dailyVol')\n",
        "    return df0\n",
        "\n",
        "\n",
        "## standard cusum filter\n",
        "def getTEvents(gRaw, h):\n",
        "    tEvents, sPos, sNeg = [], 0, 0\n",
        "    diff = np.log(gRaw).diff().dropna()\n",
        "    for i in tqdm(diff.index[1:]):\n",
        "        try:\n",
        "            pos, neg = float(sPos+diff.loc[i]), float(sNeg+diff.loc[i])\n",
        "        except Exception as e:\n",
        "            print(e)\n",
        "            print(sPos+diff.loc[i], type(sPos+diff.loc[i]))\n",
        "            print(sNeg+diff.loc[i], type(sNeg+diff.loc[i]))\n",
        "            break\n",
        "        sPos, sNeg=max(0., pos), min(0., neg)\n",
        "        if sNeg<-h:\n",
        "            sNeg=0;tEvents.append(i)\n",
        "        elif sPos>h:\n",
        "            sPos=0;tEvents.append(i)\n",
        "    return pd.DatetimeIndex(tEvents)\n",
        "\n",
        "def mpPandasObj(func,pdObj,numThreads=24,mpBatches=1,linMols=True,**kargs):\n",
        "    '''\n",
        "    Parallelize jobs, return a dataframe or series\n",
        "    + func: function to be parallelized. Returns a DataFrame\n",
        "    + pdObj[0]: Name of argument used to pass the molecule\n",
        "    + pdObj[1]: List of atoms that will be grouped into molecules\n",
        "    + kwds: any other argument needed by func\n",
        "    \n",
        "    Example: df1=mpPandasObj(func,('molecule',df0.index),24,**kwds)\n",
        "    '''\n",
        "    import pandas as pd\n",
        "    #if linMols:parts=linParts(len(argList[1]),numThreads*mpBatches)\n",
        "    #else:parts=nestedParts(len(argList[1]),numThreads*mpBatches)\n",
        "    if linMols:parts=linParts(len(pdObj[1]),numThreads*mpBatches)\n",
        "    else:parts=nestedParts(len(pdObj[1]),numThreads*mpBatches)\n",
        "    \n",
        "    jobs=[]\n",
        "    for i in range(1,len(parts)):\n",
        "        job={pdObj[0]:pdObj[1][parts[i-1]:parts[i]],'func':func}\n",
        "        job.update(kargs)\n",
        "        jobs.append(job)\n",
        "    if numThreads==1:out=processJobs_(jobs)\n",
        "    else: out=processJobs(jobs,numThreads=numThreads)\n",
        "    if isinstance(out[0],pd.DataFrame):df0=pd.DataFrame()\n",
        "    elif isinstance(out[0],pd.Series):df0=pd.Series()\n",
        "    else:return out\n",
        "    for i in out:df0=df0.append(i)\n",
        "    df0=df0.sort_index()\n",
        "    return df0\n",
        "\n",
        "\n",
        "def linParts(numAtoms,numThreads):\n",
        "    # partition of atoms with a single loop\n",
        "    parts=np.linspace(0,numAtoms,min(numThreads,numAtoms)+1)\n",
        "    parts=np.ceil(parts).astype(int)\n",
        "    return parts\n",
        "\n",
        "def processJobs_(jobs):\n",
        "    # Run jobs sequentially, for debugging\n",
        "    out=[]\n",
        "    for job in jobs:\n",
        "        out_=expandCall(job)\n",
        "        out.append(out_)\n",
        "    return out\n",
        "\n",
        "\n",
        "def expandCall(kargs):\n",
        "    # Expand the arguments of a callback function, kargs['func']\n",
        "    func=kargs['func']\n",
        "    del kargs['func']\n",
        "    out=func(**kargs)\n",
        "    return out   "
      ],
      "execution_count": null,
      "outputs": []
    },
    {
      "cell_type": "code",
      "metadata": {
        "id": "AADf2lJtGFjb"
      },
      "source": [
        ""
      ],
      "execution_count": null,
      "outputs": []
    },
    {
      "cell_type": "code",
      "metadata": {
        "colab": {
          "base_uri": "https://localhost:8080/",
          "height": 252
        },
        "id": "u6S9_lqNzA3M",
        "outputId": "debe44e6-191c-42f1-9e01-ec8de9baa773"
      },
      "source": [
        "## CHECK VALID COMPARISON BETWEEN TWO IMPLEMENTATIONS\n",
        "\n",
        "## standard cusum filter\n",
        "def getTEvents(gRaw, h):\n",
        "    tEvents, sPos, sNeg = [], 0, 0\n",
        "    #diff = gRaw.diff().dropna()\n",
        "    _idx = gRaw.index.searchsorted(gRaw.index - pd.Timedelta(days=1))\n",
        "    diff = np.log(gRaw).diff()#.dropna()\n",
        "    diff = diff[_idx>0]\n",
        "    for i in tqdm(diff.index[1:]):\n",
        "        pos, neg = float(sPos+diff.loc[i]), float(sNeg+diff.loc[i])\n",
        "        sPos, sNeg=max(0., pos), min(0., neg)\n",
        "        if sPos>h:\n",
        "            sPos=0;tEvents.append(i)\n",
        "        elif sNeg<-h:\n",
        "            sNeg=0;tEvents.append(i)\n",
        "    return pd.DatetimeIndex(tEvents), diff]\n",
        "\n",
        "\n",
        "def calculate_non_uniform_lagged_change(series: pd.Series, n_days: int):\n",
        "    \"\"\"\n",
        "    Use pd.Series.searchsorted to measure the lagged change in a non-uniformly \n",
        "    spaced time series over n_days of calendar time. \n",
        "    \"\"\"\n",
        "    # Get mapping from now to n_days ago at every point\n",
        "    _timedelta: pd.Timedelta = pd.Timedelta(days=n_days)\n",
        "    _idx: pd.Series = series.index.searchsorted(series.index - _timedelta)\n",
        "    _idx = _idx[_idx > 0]\n",
        "    # Get the last len(series) - n_days values\n",
        "    _series = series.iloc[-_idx.shape[0]:]\n",
        "    # Build a padding of NA values\n",
        "    _pad_length = series.shape[0] - _idx.shape[0]\n",
        "    _na_pad = pd.Series(None, index=series.index[:_pad_length])\n",
        "    # Get the corresonding lagged values\n",
        "    _lagged_series = series.iloc[_idx]\n",
        "    # Measure the difference\n",
        "    _diff = pd.Series(_series.values-_lagged_series.values, index=_series.index)\n",
        "    return pd.concat([_na_pad, _diff])\n",
        "\n",
        "def calculate_cusum_events(series: pd.Series, \n",
        "    filter_threshold: float) -> pd.DatetimeIndex:\n",
        "    \"\"\"\n",
        "    Calculate symmetric cusum filter and corresponding events\n",
        "    \"\"\"\n",
        "    event_dates = list()\n",
        "    s_up = 0\n",
        "    s_down = 0\n",
        "    for date, price in series.items():\n",
        "        s_up = max(0, s_up + price)\n",
        "        s_down = min(0, s_down + price)\n",
        "        if s_up > filter_threshold:\n",
        "            s_up = 0\n",
        "            event_dates.append(date)\n",
        "        elif s_down < -filter_threshold:\n",
        "            s_down = 0\n",
        "            event_dates.append(date)\n",
        "    return pd.DatetimeIndex(event_dates)\n",
        "\n",
        "\n",
        "def calculate_events_for_revenue_series(series: pd.Series, \n",
        "    filter_threshold: float, lookback: int=365) -> pd.DatetimeIndex:\n",
        "    \"\"\"\n",
        "    Calculate the symmetric cusum filter to generate events on YoY changes in \n",
        "    the log revenue series\n",
        "    \"\"\"\n",
        "    series = np.log(series)\n",
        "    series = calculate_non_uniform_lagged_change(series, lookback)\n",
        "    series = series.dropna()\n",
        "    return calculate_cusum_events(series, filter_threshold)\n",
        "\n",
        "\n",
        "def calculate_events(revenue_series: pd.Series, threshold):\n",
        "    return calculate_events_for_revenue_series(\n",
        "        revenue_series,\n",
        "        filter_threshold=threshold,\n",
        "        lookback=1,\n",
        "    )\n",
        "\n",
        "def getBins(events, close):\n",
        "  events_=events.dropna(subset=['t1'])\n",
        "  px = events_.index.union(events_['t1'].values).drop_duplicates()\n",
        "  px = close.reindex(px, method='bfill')\n",
        "  out = pd.DataFrame(index=events_.index)\n",
        "  out['ret']=px.loc[events_['t1'].values].values/px.loc[events_.index]-1\n",
        "  out['bin']=np.sign(out['ret'])\n",
        "  return out\n",
        "\n",
        "def addVerticalBarrier(tEvents, close, numDays=1):\n",
        "    # get the index of the event in price series\n",
        "    t1=close.index.searchsorted(tEvents+pd.Timedelta(days=numDays))\n",
        "    # ensure the index is less than max length\n",
        "    t1=t1[t1<close.shape[0]]\n",
        "    # change to series, with index being the event, and lookforward being close date\n",
        "    t1=(pd.Series(close.index[t1],index=tEvents[:t1.shape[0]]))\n",
        "    return t1\n",
        "\n",
        "def getEvents(close, tEvents, ptSl, trgt, minRet, numThreads, t1=False, side=None):\n",
        "    #1) get target\n",
        "    trgt = trgt.reindex(index = tEvents)\n",
        "    #trgt=trgt.loc[tEvents]\n",
        "    trgt=trgt[trgt>minRet] # minRet\n",
        "    #2) get t1 (max holding period)\n",
        "    if t1 is False:t1=pd.Series(pd.NaT, index=tEvents)\n",
        "    #3) form events object, apply stop loss on t1\n",
        "    if side is None:side_,ptSl_=pd.Series(1.,index=trgt.index), [ptSl[0],ptSl[0]]\n",
        "    #else: side_,ptSl_=side.reindex(index=trgt.index).dropna(),ptSl[:2]\n",
        "    else: side_,ptSl_=side.loc[trgt.index],ptSl[:2]\n",
        "    events=(pd.concat({'t1':t1,'trgt':trgt,'side':side_}, axis=1)\n",
        "            .dropna(subset=['trgt']))\n",
        "    df0=mpPandasObj(func=applyPtSlOnT1,pdObj=('molecule',events.index),\n",
        "                    numThreads=numThreads,close=close,events=events,\n",
        "                    ptSl=ptSl_)\n",
        "    events['t1']=df0.dropna(how='all').min(axis=1) # pd.min ignores nan\n",
        "    if side is None:events=events.drop('side',axis=1)\n",
        "    return events\n",
        "\n",
        "\n",
        "def getDailyVol(close, span=100):\n",
        "  df = close.index.searchsorted(close.index-pd.Timedelta(days=1))\n",
        "  df = df[df>0]\n",
        "  df = pd.Series(close.index[df-1], index=close.index[close.shape[0]-df.shape[0]:])\n",
        "  df = close.loc[df.index]/ close.loc[df.values].values-1\n",
        "  df = df.ewm(span=span).std()\n",
        "  return df\n",
        "\n",
        "\n",
        "close_alt=awu_alt.value\n",
        "close=awu_eod.close\n",
        "\n",
        "idx = pd.date_range(close_alt.index.min(), close_alt.index.max())\n",
        "close_alt = close_alt.reindex(idx, method='bfill')\n",
        "close = close.reindex(idx, method='bfill')\n",
        "\n",
        "\n",
        "dailyVol=getDailyVol(close_alt)\n",
        "thresh=dailyVol.mean()*2\n",
        "event1, diff1 = getTEvents(close_alt,h=thresh)\n",
        "event2, diff2 = calculate_events(close_alt, threshold=thresh)\n",
        "#lb2 = calculate_cusum_events(close_alt,filter_threshold=thresh)\n",
        "\n",
        "print()\n",
        "#print(close_alt[:5])\n",
        "print()\n",
        "print(len(event1))\n",
        "print(event1[:5])\n",
        "#print(diff1[:8])\n",
        "print(len(event2))\n",
        "print(event2[:5])\n",
        "#print(diff2[:8])\n",
        "\n",
        "t1 = addVerticalBarrier(event1, close_alt, numDays=1)\n",
        "ptsl = [1,1]\n",
        "target=dailyVol*2\n",
        "minRet = 0.005\n",
        "events = getEvents(close_alt, event1, ptsl, target, minRet, numThreads=1, t1=t1)\n",
        "labels1 = getBins(events, close)\n",
        "print(labels1.shape)\n",
        "print(labels1.bin.value_counts())\n",
        "\n",
        "\n",
        "labels2, event_spans = calculate_labels(close, event2)\n",
        "print(labels2.shape)\n",
        "print(labels2.value_counts())\n"
      ],
      "execution_count": null,
      "outputs": [
        {
          "output_type": "stream",
          "text": [
            "100%|██████████| 1734/1734 [00:00<00:00, 20384.50it/s]\n"
          ],
          "name": "stderr"
        },
        {
          "output_type": "error",
          "ename": "ValueError",
          "evalue": "ignored",
          "traceback": [
            "\u001b[0;31m---------------------------------------------------------------------------\u001b[0m",
            "\u001b[0;31mValueError\u001b[0m                                Traceback (most recent call last)",
            "\u001b[0;32m<ipython-input-62-c799a80239da>\u001b[0m in \u001b[0;36m<module>\u001b[0;34m()\u001b[0m\n\u001b[1;32m    135\u001b[0m \u001b[0mdailyVol\u001b[0m\u001b[0;34m=\u001b[0m\u001b[0mgetDailyVol\u001b[0m\u001b[0;34m(\u001b[0m\u001b[0mclose_alt\u001b[0m\u001b[0;34m)\u001b[0m\u001b[0;34m\u001b[0m\u001b[0;34m\u001b[0m\u001b[0m\n\u001b[1;32m    136\u001b[0m \u001b[0mthresh\u001b[0m\u001b[0;34m=\u001b[0m\u001b[0mdailyVol\u001b[0m\u001b[0;34m.\u001b[0m\u001b[0mmean\u001b[0m\u001b[0;34m(\u001b[0m\u001b[0;34m)\u001b[0m\u001b[0;34m*\u001b[0m\u001b[0;36m2\u001b[0m\u001b[0;34m\u001b[0m\u001b[0;34m\u001b[0m\u001b[0m\n\u001b[0;32m--> 137\u001b[0;31m \u001b[0mevent1\u001b[0m\u001b[0;34m,\u001b[0m \u001b[0mdiff1\u001b[0m \u001b[0;34m=\u001b[0m \u001b[0mgetTEvents\u001b[0m\u001b[0;34m(\u001b[0m\u001b[0mclose_alt\u001b[0m\u001b[0;34m,\u001b[0m\u001b[0mh\u001b[0m\u001b[0;34m=\u001b[0m\u001b[0mthresh\u001b[0m\u001b[0;34m)\u001b[0m\u001b[0;34m\u001b[0m\u001b[0;34m\u001b[0m\u001b[0m\n\u001b[0m\u001b[1;32m    138\u001b[0m \u001b[0mevent2\u001b[0m\u001b[0;34m,\u001b[0m \u001b[0mdiff2\u001b[0m \u001b[0;34m=\u001b[0m \u001b[0mcalculate_events\u001b[0m\u001b[0;34m(\u001b[0m\u001b[0mclose_alt\u001b[0m\u001b[0;34m,\u001b[0m \u001b[0mthreshold\u001b[0m\u001b[0;34m=\u001b[0m\u001b[0mthresh\u001b[0m\u001b[0;34m)\u001b[0m\u001b[0;34m\u001b[0m\u001b[0;34m\u001b[0m\u001b[0m\n\u001b[1;32m    139\u001b[0m \u001b[0;31m#lb2 = calculate_cusum_events(close_alt,filter_threshold=thresh)\u001b[0m\u001b[0;34m\u001b[0m\u001b[0;34m\u001b[0m\u001b[0;34m\u001b[0m\u001b[0m\n",
            "\u001b[0;31mValueError\u001b[0m: too many values to unpack (expected 2)"
          ]
        }
      ]
    },
    {
      "cell_type": "code",
      "metadata": {
        "id": "n-IhEAJK7-HN"
      },
      "source": [
        "# proportion the same\n",
        "sum(labels1.bin==labels2)/len(labels2)"
      ],
      "execution_count": null,
      "outputs": []
    },
    {
      "cell_type": "code",
      "metadata": {
        "id": "1L6Hiu9Os9WJ"
      },
      "source": [
        "labels2, event_spans = calculate_labels(close, event2)\n",
        "print(labels2.shape)\n",
        "print(labels2.value_counts())"
      ],
      "execution_count": null,
      "outputs": []
    },
    {
      "cell_type": "code",
      "metadata": {
        "colab": {
          "base_uri": "https://localhost:8080/"
        },
        "id": "UEVO7matQUoF",
        "outputId": "30177054-b823-487b-ccaf-53e3c6edd53f"
      },
      "source": [
        "from typing import Tuple, List\n",
        "price_series = close\n",
        "event_index = event2\n",
        "\n",
        "time_delta_days=1\n",
        "upper_z=1.8# 0.001\n",
        "lower_z=-1.8# 0.001\n",
        "vol_span=20\n",
        "upper_delta=None\n",
        "lower_delta=None\n",
        "lower_label=-1\n",
        "upper_label=1\n",
        "\n",
        "timedelta = pd.Timedelta(days=time_delta_days)\n",
        "series = pd.Series(np.log(price_series.values), index=price_series.index)\n",
        "\n",
        "# A list with elements of {-1, 0, 1} indicating the outcome of the events\n",
        "labels = list()\n",
        "label_dates = list()\n",
        "\n",
        "if upper_z or lower_z:\n",
        "    volatility = series.ewm(span=vol_span).std()\n",
        "    volatility *= np.sqrt(time_delta_days / vol_span)\n",
        "\n",
        "for event_date in event_index:\n",
        "    date_barrier = event_date + timedelta\n",
        "\n",
        "    start_price = series.loc[event_date]\n",
        "    log_returns = series.loc[event_date:date_barrier] - start_price\n",
        "\n",
        "    # First element of tuple is 1 or -1 indicating upper or lower barrier\n",
        "    # Second element of tuple is first date when barrier was crossed\n",
        "    candidates: List[Tuple[int, pd.Timestamp]] = list()\n",
        "\n",
        "    # Add the first upper or lower date to candidates\n",
        "    if upper_delta:\n",
        "        _date = log_returns[log_returns > upper_delta].first_valid_index()\n",
        "        if _date:\n",
        "            candidates.append((upper_label, _date))\n",
        "\n",
        "    if lower_delta:\n",
        "        _date = log_returns[log_returns < lower_delta].first_valid_index()\n",
        "        if _date:\n",
        "            candidates.append((lower_label, _date))\n",
        "\n",
        "    # Add the first upper_z and lower_z to candidates\n",
        "    if upper_z:\n",
        "        upper_barrier = upper_z * volatility[event_date]\n",
        "        _date = log_returns[log_returns > upper_barrier].first_valid_index()\n",
        "        if _date:\n",
        "            candidates.append((upper_label, _date))\n",
        "\n",
        "    if lower_z:\n",
        "        lower_barrier = lower_z * volatility[event_date]\n",
        "        _date = log_returns[log_returns < lower_barrier].first_valid_index()\n",
        "        if _date:\n",
        "            candidates.append((lower_label, _date))\n",
        "\n",
        "    if candidates:\n",
        "        # If any candidates, return label for first date\n",
        "        label, label_date = min(candidates, key=lambda x: x[1])\n",
        "    else:\n",
        "        # If there were no candidates, time barrier was touched\n",
        "        label, label_date = 0, date_barrier\n",
        "\n",
        "    labels.append(label)\n",
        "    label_dates.append(label_date)\n",
        "\n",
        "label_series = pd.Series(labels, index=event_index)\n",
        "event_spans = pd.Series(label_dates, index=event_index)\n",
        "print(label_series.value_counts())\n",
        "print(label_series)\n",
        "print(event_spans)"
      ],
      "execution_count": null,
      "outputs": [
        {
          "output_type": "stream",
          "text": [
            " 0    143\n",
            " 1     32\n",
            "-1     31\n",
            "dtype: int64\n",
            "2015-04-16   -1\n",
            "2015-04-18    0\n",
            "2015-04-23   -1\n",
            "2015-04-24    1\n",
            "2015-05-20   -1\n",
            "             ..\n",
            "2019-12-04    1\n",
            "2019-12-06    0\n",
            "2019-12-07    0\n",
            "2019-12-20    1\n",
            "2019-12-31    0\n",
            "Length: 206, dtype: int64\n",
            "2015-04-16   2015-04-17\n",
            "2015-04-18   2015-04-19\n",
            "2015-04-23   2015-04-24\n",
            "2015-04-24   2015-04-25\n",
            "2015-05-20   2015-05-21\n",
            "                ...    \n",
            "2019-12-04   2019-12-05\n",
            "2019-12-06   2019-12-07\n",
            "2019-12-07   2019-12-08\n",
            "2019-12-20   2019-12-21\n",
            "2019-12-31   2020-01-01\n",
            "Length: 206, dtype: datetime64[ns]\n"
          ],
          "name": "stdout"
        }
      ]
    },
    {
      "cell_type": "code",
      "metadata": {
        "colab": {
          "base_uri": "https://localhost:8080/"
        },
        "id": "ekjuYm1vWOgJ",
        "outputId": "fb564e06-c5fc-470a-e008-bd311a229ffd"
      },
      "source": [
        "event_date=event_index[150]\n",
        "timedelta = pd.Timedelta(days=2)\n",
        "date_barrier = event_date + timedelta\n",
        "upper_z=0.001\n",
        "lower_z=-0.001\n",
        "upper_barrier = upper_z * volatility[event_date]\n",
        "lower_barrier = lower_z * volatility[event_date]\n",
        "log_returns = series.loc[event_date:date_barrier] - start_price\n",
        "print(event_date)\n",
        "print(lower_barrier)\n",
        "print(upper_barrier)\n",
        "print(\"Lower\")\n",
        "print(log_returns[log_returns < lower_barrier])\n",
        "print(log_returns[log_returns < lower_barrier].first_valid_index())\n",
        "print(\"Upper\")\n",
        "print(log_returns[log_returns > upper_barrier])\n",
        "print(log_returns[log_returns > upper_barrier].first_valid_index())\n",
        "print(\"Space\")\n",
        "print(log_returns)"
      ],
      "execution_count": null,
      "outputs": [
        {
          "output_type": "stream",
          "text": [
            "2018-11-16 00:00:00\n",
            "-1.2470570639349091e-05\n",
            "1.2470570639349091e-05\n",
            "Lower\n",
            "Series([], Freq: D, dtype: float64)\n",
            "None\n",
            "Upper\n",
            "2018-11-16    0.160614\n",
            "2018-11-17    0.097952\n",
            "2018-11-18    0.097952\n",
            "Freq: D, dtype: float64\n",
            "2018-11-16 00:00:00\n",
            "Space\n",
            "2018-11-16    0.160614\n",
            "2018-11-17    0.097952\n",
            "2018-11-18    0.097952\n",
            "Freq: D, dtype: float64\n"
          ],
          "name": "stdout"
        }
      ]
    },
    {
      "cell_type": "code",
      "metadata": {
        "colab": {
          "base_uri": "https://localhost:8080/"
        },
        "id": "4hxxdPoCEv4D",
        "outputId": "599859c6-5e21-4936-a131-52c845e485ab"
      },
      "source": [
        "## standard cusum filter\n",
        "def getTEvents(gRaw, h):\n",
        "    tEvents, sPos, sNeg = [], 0, 0\n",
        "    diff = np.log(gRaw).diff().dropna()\n",
        "    for i in tqdm(diff.index[1:]):\n",
        "        pos, neg = float(sPos+diff.loc[i]), float(sNeg+diff.loc[i])\n",
        "        sPos, sNeg=max(0., pos), min(0., neg)\n",
        "        if sNeg<-h:\n",
        "            sNeg=0;tEvents.append(i)\n",
        "        elif sPos>h:\n",
        "            sPos=0;tEvents.append(i)\n",
        "    return pd.DatetimeIndex(tEvents)\n",
        "\n",
        "close_alt=awu_alt.value\n",
        "close=awu_eod.close\n",
        "dailyVol=getDailyVol(close_alt)\n",
        "tEvents = getTEvents(close_alt,h=dailyVol.mean()*2)\n",
        "tEvents"
      ],
      "execution_count": null,
      "outputs": [
        {
          "output_type": "stream",
          "text": [
            "100%|██████████| 1196/1196 [00:00<00:00, 18791.35it/s]\n"
          ],
          "name": "stderr"
        },
        {
          "output_type": "execute_result",
          "data": {
            "text/plain": [
              "DatetimeIndex(['2015-04-16', '2015-04-23', '2015-05-20', '2015-06-02',\n",
              "               '2015-07-02', '2015-07-24', '2015-08-07', '2015-08-10',\n",
              "               '2015-08-31', '2015-09-09',\n",
              "               ...\n",
              "               '2019-09-13', '2019-09-26', '2019-10-10', '2019-11-22',\n",
              "               '2019-11-29', '2019-12-02', '2019-12-04', '2019-12-06',\n",
              "               '2019-12-09', '2019-12-30'],\n",
              "              dtype='datetime64[ns]', length=169, freq=None)"
            ]
          },
          "metadata": {
            "tags": []
          },
          "execution_count": 144
        }
      ]
    },
    {
      "cell_type": "code",
      "metadata": {
        "colab": {
          "base_uri": "https://localhost:8080/"
        },
        "id": "jPf4FC2wEay3",
        "outputId": "700c4182-7d82-4333-fddd-a075534eb1d9"
      },
      "source": [
        "t1 = addVerticalBarrier(tEvents, close, numDays=1)\n",
        "t1\n"
      ],
      "execution_count": null,
      "outputs": [
        {
          "output_type": "execute_result",
          "data": {
            "text/plain": [
              "2015-04-16   2015-04-17\n",
              "2015-04-23   2015-04-24\n",
              "2015-05-20   2015-05-21\n",
              "2015-06-02   2015-06-03\n",
              "2015-07-02   2015-07-06\n",
              "                ...    \n",
              "2019-12-02   2019-12-03\n",
              "2019-12-04   2019-12-05\n",
              "2019-12-06   2019-12-09\n",
              "2019-12-09   2019-12-10\n",
              "2019-12-30   2019-12-31\n",
              "Name: date, Length: 169, dtype: datetime64[ns]"
            ]
          },
          "metadata": {
            "tags": []
          },
          "execution_count": 127
        }
      ]
    },
    {
      "cell_type": "code",
      "metadata": {
        "id": "HQuZ80-7GO_E"
      },
      "source": [
        "from multiprocessing import cpu_count\n",
        "cpus = cpu_count() - 1"
      ],
      "execution_count": null,
      "outputs": []
    },
    {
      "cell_type": "code",
      "metadata": {
        "colab": {
          "base_uri": "https://localhost:8080/"
        },
        "id": "PDDee687Ea1T",
        "outputId": "c7903844-d3ef-45a1-9e46-dc1ae8865ed9"
      },
      "source": [
        "# create target series\n",
        "ptsl = [1,1]\n",
        "target=dailyVol*2\n",
        "# select minRet\n",
        "minRet = 0.01\n",
        "\n",
        "# Run in single-threaded mode on Windows\n",
        "import platform\n",
        "if platform.system() == \"Windows\":\n",
        "    cpus = 1\n",
        "else:\n",
        "    cpus = cpu_count() - 1\n",
        "    \n",
        "events = getEvents(close,tEvents,ptsl,target,minRet,cpus,t1=t1)\n",
        "\n",
        "print(events)"
      ],
      "execution_count": null,
      "outputs": [
        {
          "output_type": "stream",
          "text": [
            "Worked fine\n",
            "                   t1      trgt\n",
            "2015-04-16 2015-04-17  0.150191\n",
            "2015-04-23 2015-04-24  0.164168\n",
            "2015-05-20 2015-05-21  0.206677\n",
            "2015-06-02 2015-06-03  0.244131\n",
            "2015-07-02 2015-07-06  0.228166\n",
            "...               ...       ...\n",
            "2019-12-02 2019-12-03  0.272616\n",
            "2019-12-04 2019-12-05  0.295389\n",
            "2019-12-06 2019-12-09  0.303068\n",
            "2019-12-09 2019-12-10  0.316159\n",
            "2019-12-30 2019-12-31  0.301317\n",
            "\n",
            "[169 rows x 2 columns]\n"
          ],
          "name": "stdout"
        }
      ]
    },
    {
      "cell_type": "code",
      "metadata": {
        "id": "eecPIS9oE0yU"
      },
      "source": [
        "def getBins(events, close):\n",
        "    '''\n",
        "    Compute event's outcome (including side information, if provided).\n",
        "    events is a DataFrame where:\n",
        "    -events.index is event's starttime\n",
        "    -events['t1'] is event's endtime\n",
        "    -events['trgt'] is event's target\n",
        "    -events['side'] (optional) implies the algo's position side\n",
        "    Case 1: ('side' not in events): bin in (-1,1) <-label by price action\n",
        "    Case 2: ('side' in events): bin in (0,1) <-label by pnl (meta-labeling)\n",
        "    '''\n",
        "    #1) prices aligned with events\n",
        "    events_=events.dropna(subset=['t1'])\n",
        "    px=events_.index.union(events_['t1'].values).drop_duplicates()\n",
        "    px=close.reindex(px,method='bfill')\n",
        "    #2) create out object\n",
        "    out=pd.DataFrame(index=events_.index)\n",
        "    out['ret']=px.loc[events_['t1'].values].values/px.loc[events_.index]-1\n",
        "    if 'side' in events_:out['ret']*=events_['side'] # meta-labeling\n",
        "    out['bin']=np.sign(out['ret'])\n",
        "    if 'side' in events_:out.loc[out['ret']<=0,'bin']=0 # meta-labeling\n",
        "    return out\n",
        "\n",
        "labels = getBins(events, close)\n",
        "print(labels)\n",
        "print(labels.bin.value_counts())"
      ],
      "execution_count": null,
      "outputs": []
    },
    {
      "cell_type": "code",
      "metadata": {
        "colab": {
          "base_uri": "https://localhost:8080/"
        },
        "id": "8Elkxl5nJrpC",
        "outputId": "0743d136-0dfc-4dd0-9d8b-5e5025c51ec6"
      },
      "source": [
        ""
      ],
      "execution_count": null,
      "outputs": [
        {
          "output_type": "execute_result",
          "data": {
            "text/plain": [
              "0"
            ]
          },
          "metadata": {
            "tags": []
          },
          "execution_count": 82
        }
      ]
    },
    {
      "cell_type": "code",
      "metadata": {
        "colab": {
          "base_uri": "https://localhost:8080/"
        },
        "id": "bIx0VOZpZx5c",
        "outputId": "d542b545-e5e5-4e0f-e728-5f9835c9549c"
      },
      "source": [
        "\n",
        "close_alt=awu_alt.value\n",
        "close=awu_eod.close\n",
        "\n",
        "dailyVol=getDailyVol(close_alt)\n",
        "tEvents = getTEvents(close_alt, h=dailyVol.mean()*2)\n",
        "t1 = addVerticalBarrier(tEvents, close_alt, numDays=1)\n",
        "\n",
        "# create target series\n",
        "ptsl = [1,1]\n",
        "target=dailyVol*2\n",
        "# select minRet\n",
        "minRet = 0.01\n",
        "\n",
        "cpus = cpu_count() - 1\n",
        "\n",
        "events = getEvents(close_alt, tEvents, ptsl, target, minRet, cpus, t1=t1)\n",
        "labels = getBins(events, close)\n",
        "\n",
        "print(close.shape)\n",
        "print(close_alt.shape)\n",
        "print(tEvents.shape)\n",
        "print(events.shape)\n",
        "print(labels.shape)\n",
        "print(labels.bin.value_counts())"
      ],
      "execution_count": null,
      "outputs": [
        {
          "output_type": "stream",
          "text": [
            "100%|██████████| 1196/1196 [00:00<00:00, 18565.05it/s]\n"
          ],
          "name": "stderr"
        },
        {
          "output_type": "stream",
          "text": [
            "Worked fine\n",
            "(2516,)\n",
            "(1198,)\n",
            "(169,)\n",
            "(169, 2)\n",
            "(169, 2)\n",
            "-1.0    85\n",
            " 1.0    83\n",
            " 0.0     1\n",
            "Name: bin, dtype: int64\n"
          ],
          "name": "stdout"
        }
      ]
    },
    {
      "cell_type": "code",
      "metadata": {
        "colab": {
          "base_uri": "https://localhost:8080/"
        },
        "id": "ZCU9u3dewYZe",
        "outputId": "c81493a8-7109-48cd-af01-ab45b4d5289b"
      },
      "source": [
        "# Get events, labels, weights, and features\n",
        "\n",
        "close_alt=awu_alt.value\n",
        "close=awu_eod.close\n",
        "dailyVol=getDailyVol(close_alt)\n",
        "\n",
        "event_index = calculate_events(awu_alt.value, threshold=dailyVol.mean()*2)\n",
        "event_labels, event_spans = calculate_labels(close, event_index)\n",
        "\n",
        "print(close.shape)\n",
        "print(close_alt.shape)\n",
        "print(event_index.shape)\n",
        "print(event_labels.shape)\n",
        "print(event_spans.shape)\n",
        "print(event_labels.value_counts())"
      ],
      "execution_count": null,
      "outputs": [
        {
          "output_type": "stream",
          "text": [
            "(2516,)\n",
            "(1198,)\n",
            "(154,)\n",
            "(154,)\n",
            "(154,)\n",
            " 0    113\n",
            "-1     21\n",
            " 1     20\n",
            "dtype: int64\n"
          ],
          "name": "stdout"
        },
        {
          "output_type": "stream",
          "text": [
            "/usr/local/lib/python3.7/dist-packages/ipykernel_launcher.py:14: DeprecationWarning: The default dtype for empty Series will be 'object' instead of 'float64' in a future version. Specify a dtype explicitly to silence this warning.\n",
            "  \n"
          ],
          "name": "stderr"
        }
      ]
    },
    {
      "cell_type": "code",
      "metadata": {
        "id": "zKTRtixwHoC1"
      },
      "source": [
        "def dropLabels(events, minPct=.05):\n",
        "    # apply weights, drop labels with insufficient examples\n",
        "    while True:\n",
        "      df0=events['bin'].value_counts(normalize=True)\n",
        "      if df0.min()>minPct or df0.shape[0]<3:break\n",
        "      print('dropped label: ', df0.argmin(),df0.min())\n",
        "      events=events[events['bin']!=df0.argmin()]\n",
        "    return events\n",
        "\n",
        "clean_labels = dropLabels(labels)\n",
        "print(clean_labels)"
      ],
      "execution_count": null,
      "outputs": []
    },
    {
      "cell_type": "code",
      "metadata": {
        "id": "hQ3tRUPlHoOz"
      },
      "source": [
        "clean_labels.bin.value_counts()"
      ],
      "execution_count": null,
      "outputs": []
    },
    {
      "cell_type": "code",
      "metadata": {
        "id": "wMtnEQ11OX9W"
      },
      "source": [
        ""
      ],
      "execution_count": null,
      "outputs": []
    },
    {
      "cell_type": "markdown",
      "metadata": {
        "id": "u0XbJ7QDORzo"
      },
      "source": [
        "### Additional Steps, source here:\n",
        "https://github.com/BlackArbsCEO/Adv_Fin_ML_Exercises/blob/master/notebooks/Labeling%20and%20MetaLabeling%20for%20Supervised%20Classification.ipynb"
      ]
    },
    {
      "cell_type": "code",
      "metadata": {
        "colab": {
          "base_uri": "https://localhost:8080/"
        },
        "id": "pzQh_YsmZg8B",
        "outputId": "f8da6b44-bb57-4623-af18-dfda540dc19f"
      },
      "source": [
        "\n",
        "fast_window = 3\n",
        "slow_window = 7\n",
        "\n",
        "close_df = (pd.DataFrame()\n",
        "            .assign(price=close)\n",
        "            .assign(fast=close.ewm(fast_window).mean())\n",
        "            .assign(slow=close.ewm(slow_window).mean()))\n",
        "print(close_df)"
      ],
      "execution_count": null,
      "outputs": [
        {
          "output_type": "stream",
          "text": [
            "             price        fast        slow\n",
            "2015-03-31  224.76  224.760000  224.760000\n",
            "2015-04-01  222.57  223.508571  223.592000\n",
            "2015-04-02  224.35  223.872432  223.879053\n",
            "2015-04-03  227.56  225.221029  224.990938\n",
            "2015-04-04  227.56  225.987708  225.650225\n",
            "...            ...         ...         ...\n",
            "2019-12-27  325.38  328.569790  327.674253\n",
            "2019-12-28  324.06  327.442343  327.222472\n",
            "2019-12-29  324.06  326.596757  326.827163\n",
            "2019-12-30  324.06  325.962568  326.481267\n",
            "2019-12-31  328.93  326.704426  326.787359\n",
            "\n",
            "[1737 rows x 3 columns]\n"
          ],
          "name": "stdout"
        }
      ]
    },
    {
      "cell_type": "code",
      "metadata": {
        "colab": {
          "base_uri": "https://localhost:8080/",
          "height": 500
        },
        "id": "1U36OUA3YsRI",
        "outputId": "7b675fc9-103c-4193-da09-c9f7047ba2ad"
      },
      "source": [
        "def get_up_cross(df):\n",
        "    crit1 = df.fast.shift(1) < df.slow.shift(1)\n",
        "    crit2 = df.fast > df.slow\n",
        "    return df.fast[(crit1) & (crit2)]\n",
        "\n",
        "def get_down_cross(df):\n",
        "    crit1 = df.fast.shift(1) > df.slow.shift(1)\n",
        "    crit2 = df.fast < df.slow\n",
        "    return df.fast[(crit1) & (crit2)]\n",
        "\n",
        "up = get_up_cross(close_df)\n",
        "down = get_down_cross(close_df)\n",
        "\n",
        "f, ax = plt.subplots(figsize=(11,8))\n",
        "\n",
        "close_df.loc['2014':].plot(ax=ax, alpha=.5)\n",
        "up.loc['2014':].plot(ax=ax,ls='',marker='^', markersize=7,\n",
        "                     alpha=0.75, label='upcross', color='g')\n",
        "down.loc['2014':].plot(ax=ax,ls='',marker='v', markersize=7, \n",
        "                       alpha=0.75, label='downcross', color='r')\n",
        "\n",
        "ax.legend()"
      ],
      "execution_count": null,
      "outputs": [
        {
          "output_type": "execute_result",
          "data": {
            "text/plain": [
              "<matplotlib.legend.Legend at 0x7f72475a6c90>"
            ]
          },
          "metadata": {
            "tags": []
          },
          "execution_count": 58
        },
        {
          "output_type": "display_data",
          "data": {
            "image/png": "[encoded data removed]",
            "text/plain": [
              "<Figure size 792x576 with 1 Axes>"
            ]
          },
          "metadata": {
            "tags": [],
            "needs_background": "light"
          }
        }
      ]
    },
    {
      "cell_type": "code",
      "metadata": {
        "colab": {
          "base_uri": "https://localhost:8080/"
        },
        "id": "mEOgV9FwZySA",
        "outputId": "c417777a-fb8b-4d16-c61c-51985bc40321"
      },
      "source": [
        "side_up = pd.Series(1, index=up.index)\n",
        "side_down = pd.Series(-1, index=down.index)\n",
        "side = pd.concat([side_up,side_down]).sort_index()\n",
        "print(side)"
      ],
      "execution_count": null,
      "outputs": [
        {
          "output_type": "stream",
          "text": [
            "2015-04-03    1\n",
            "2015-04-08   -1\n",
            "2015-04-15    1\n",
            "2015-04-24   -1\n",
            "2015-04-29    1\n",
            "             ..\n",
            "2019-09-24   -1\n",
            "2019-10-17    1\n",
            "2019-11-27   -1\n",
            "2019-12-12    1\n",
            "2019-12-29   -1\n",
            "Length: 94, dtype: int64\n"
          ],
          "name": "stdout"
        }
      ]
    },
    {
      "cell_type": "code",
      "metadata": {
        "id": "wU43bEWSQ89O"
      },
      "source": [
        "## standard cusum filter\n",
        "def getTEvents(gRaw, h):\n",
        "    tEvents, sPos, sNeg = [], 0, 0\n",
        "    #diff = gRaw.diff().dropna()\n",
        "    _idx = gRaw.index.searchsorted(gRaw.index - pd.Timedelta(days=1))\n",
        "    diff = np.log(gRaw).diff()#.dropna()\n",
        "    diff = diff[_idx>0]\n",
        "    for i in tqdm(diff.index[1:]):\n",
        "        pos, neg = float(sPos+diff.loc[i]), float(sNeg+diff.loc[i])\n",
        "        sPos, sNeg=max(0., pos), min(0., neg)\n",
        "        if sPos>h:\n",
        "            sPos=0;tEvents.append(i)\n",
        "        elif sNeg<-h:\n",
        "            sNeg=0;tEvents.append(i)\n",
        "    return pd.DatetimeIndex(tEvents)\n",
        "\n",
        "def getEvents(close, tEvents, ptSl, trgt, minRet, numThreads, t1=False, side=None):\n",
        "    #1) get target\n",
        "    trgt = trgt.reindex(index = tEvents)\n",
        "    trgt=trgt.loc[tEvents]\n",
        "    print(\"Worked fine\")\n",
        "    #trgt=trgt[trgt>minRet] # minRet\n",
        "    #2) get t1 (max holding period)\n",
        "    if t1 is False:t1=pd.Series(pd.NaT, index=tEvents)\n",
        "    #3) form events object, apply stop loss on t1\n",
        "    if side is None:side_,ptSl_=pd.Series(1.,index=trgt.index), [ptSl[0],ptSl[0]]\n",
        "    #else: side_,ptSl_=side.reindex(index=trgt.index).dropna(),ptSl[:2]\n",
        "    else: \n",
        "      side_,ptSl_=side.reindex(index=trgt.index),ptSl[:2]\n",
        "    events=(pd.concat({'t1':t1,'trgt':trgt,'side':side_}, axis=1)\n",
        "            .dropna(subset=['trgt']))\n",
        "    df0=mpPandasObj(func=applyPtSlOnT1,pdObj=('molecule',events.index),\n",
        "                    numThreads=numThreads,close=close,events=events,\n",
        "                    ptSl=ptSl_)\n",
        "    events['t1']=df0.dropna(how='all').min(axis=1) # pd.min ignores nan\n",
        "    if side is None:events=events.drop('side',axis=1)\n",
        "    return events\n",
        "\n",
        "\n",
        "def applyPtSlOnT1(close,events,ptSl,molecule):\n",
        "     # apply stop loss/profit taking, if it takes place before t1 (end of event)\n",
        "    #events_=events.loc[molecule]\n",
        "    print(\"worked fine again\")\n",
        "    events_=events.reindex(index=molecule)\n",
        "    out=events_[['t1']].copy(deep=True)\n",
        "    if ptSl[0]>0: pt=ptSl[0]*events_['trgt']\n",
        "    else: pt=pd.Series(index=events.index) # NaNs\n",
        "    if ptSl[1]>0: sl=-ptSl[1]*events_['trgt']\n",
        "    else: sl=pd.Series(index=events.index) # NaNs\n",
        "    \n",
        "    for loc,t1 in events_['t1'].fillna(close.index[-1]).iteritems():\n",
        "        df0=close[loc:t1] # path prices\n",
        "        df0=(df0/close[loc]-1)*events_.at[loc,'side'] # path returns\n",
        "        out.loc[loc,'sl']=df0[df0<sl[loc]].index.min() # earliest stop loss\n",
        "        out.loc[loc,'pt']=df0[df0>pt[loc]].index.min() # earliest profit taking\n",
        "    return out   \n",
        "    \n",
        "def getBinsNew(events, close, t1=None):\n",
        "    '''\n",
        "    Compute event's outcome (including side information, if provided).\n",
        "    events is a DataFrame where:\n",
        "    -events.index is event's starttime\n",
        "    -events['t1'] is event's endtime\n",
        "    -events['trgt'] is event's target\n",
        "    -events['side'] (optional) implies the algo's position side\n",
        "    -t1 is original vertical barrier series\n",
        "    Case 1: ('side' not in events): bin in (-1,1) <-label by price action\n",
        "    Case 2: ('side' in events): bin in (0,1) <-label by pnl (meta-labeling)\n",
        "    '''\n",
        "    #1) prices aligned with events\n",
        "    events_=events.dropna(subset=['t1'])\n",
        "    px=events_.index.union(events_['t1'].values).drop_duplicates()\n",
        "    px=close.reindex(px,method='bfill')\n",
        "    #2) create out object\n",
        "    out=pd.DataFrame(index=events_.index)\n",
        "    out['ret']=px.loc[events_['t1'].values].values/px.loc[events_.index]-1\n",
        "    if 'side' in events_:out['ret']*=events_['side'] # meta-labeling\n",
        "    out['bin']=np.sign(out['ret'])\n",
        "    \n",
        "    if 'side' not in events_:\n",
        "        # only applies when not meta-labeling\n",
        "        # to update bin to 0 when vertical barrier is touched, we need the original\n",
        "        # vertical barrier series since the events['t1'] is the time of first \n",
        "        # touch of any barrier and not the vertical barrier specifically. \n",
        "        # The index of the intersection of the vertical barrier values and the \n",
        "        # events['t1'] values indicate which bin labels needs to be turned to 0\n",
        "        vtouch_first_idx = events[events['t1'].isin(t1.values)].index\n",
        "        out.loc[vtouch_first_idx, 'bin'] = 0.\n",
        "    \n",
        "    if 'side' in events_:out.loc[out['ret']<=0,'bin']=0 # meta-labeling\n",
        "    return out"
      ],
      "execution_count": null,
      "outputs": []
    },
    {
      "cell_type": "code",
      "metadata": {
        "colab": {
          "base_uri": "https://localhost:8080/"
        },
        "id": "y5S87f5xZ8yp",
        "outputId": "f3078fd8-952c-42cd-ae3f-caf1df6bcd2d"
      },
      "source": [
        "minRet = .01 \n",
        "ptsl=[1,2]\n",
        "\n",
        "from multiprocessing import cpu_count\n",
        "cpus = cpu_count() - 1\n",
        "\n",
        "dailyVol = getDailyVol(close_df['price'])\n",
        "tEvents = getTEvents(close_df['price'],h=dailyVol.mean())\n",
        "t1 = addVerticalBarrier(tEvents, close_df['price'], numDays=1)\n",
        "ma_events = getEvents(close_df['price'],tEvents,ptsl,target,minRet,cpus,t1=t1,side=side)\n",
        "print(ma_events)"
      ],
      "execution_count": null,
      "outputs": [
        {
          "output_type": "stream",
          "text": [
            "100%|██████████| 1734/1734 [00:00<00:00, 20191.63it/s]\n"
          ],
          "name": "stderr"
        },
        {
          "output_type": "stream",
          "text": [
            "Worked fine\n",
            "worked fine again\n",
            "                   t1      trgt  side\n",
            "2015-04-11 2015-04-12  0.169723   NaN\n",
            "2015-04-15 2015-04-16  0.152157   1.0\n",
            "2015-04-17 2015-04-18  0.173106   NaN\n",
            "2015-05-05 2015-05-06  0.225941  -1.0\n",
            "2015-05-09 2015-05-10  0.213112   NaN\n",
            "...               ...       ...   ...\n",
            "2019-11-26 2019-11-27  0.226913   NaN\n",
            "2019-12-03 2019-12-04  0.263384   NaN\n",
            "2019-12-06 2019-12-07  0.275873   NaN\n",
            "2019-12-12 2019-12-13  0.289142   1.0\n",
            "2019-12-20 2019-12-21  0.279702   NaN\n",
            "\n",
            "[346 rows x 3 columns]\n"
          ],
          "name": "stdout"
        }
      ]
    },
    {
      "cell_type": "code",
      "metadata": {
        "colab": {
          "base_uri": "https://localhost:8080/"
        },
        "id": "l0oqcA7Fa3Sy",
        "outputId": "7d7f97f0-64be-4cdb-9004-1ee3a3e8945c"
      },
      "source": [
        "ma_events.side.value_counts()"
      ],
      "execution_count": null,
      "outputs": [
        {
          "output_type": "execute_result",
          "data": {
            "text/plain": [
              "-1.0    17\n",
              " 1.0    16\n",
              "Name: side, dtype: int64"
            ]
          },
          "metadata": {
            "tags": []
          },
          "execution_count": 85
        }
      ]
    },
    {
      "cell_type": "code",
      "metadata": {
        "id": "l1pmGj_-ZjOw"
      },
      "source": [
        "ma_side = ma_events.dropna().side\n",
        "ma_side"
      ],
      "execution_count": null,
      "outputs": []
    },
    {
      "cell_type": "code",
      "metadata": {
        "id": "KoAikJIMfKtr"
      },
      "source": [
        "ma_bins = getBinsNew(ma_events,close_df['price'], t1).dropna()\n",
        "print(ma_bins)"
      ],
      "execution_count": null,
      "outputs": []
    },
    {
      "cell_type": "code",
      "metadata": {
        "id": "zPj4KKBnfKvi"
      },
      "source": [
        "Xx = pd.merge_asof(ma_bins, side.to_frame().rename(columns={0:'side'}),\n",
        "                   left_index=True, right_index=True, direction='forward')\n",
        "print(Xx)"
      ],
      "execution_count": null,
      "outputs": []
    },
    {
      "cell_type": "code",
      "metadata": {
        "id": "XAhWXXjRIrMy"
      },
      "source": [
        "from sklearn.ensemble import RandomForestClassifier\n",
        "from sklearn.model_selection import train_test_split\n",
        "from sklearn.metrics import roc_curve, classification_report\n",
        "RANDOM_STATE = 777\n"
      ],
      "execution_count": null,
      "outputs": []
    },
    {
      "cell_type": "code",
      "metadata": {
        "id": "ds-pJbckXzA2"
      },
      "source": [
        "X = ma_side.values.reshape(-1,1)\n",
        "#X = Xx.side.values.reshape(-1,1)\n",
        "y = ma_bins.bin.values\n",
        "X_train, X_test, y_train, y_test = train_test_split(X, y, test_size=0.25,\n",
        "                                                    shuffle=False)\n",
        "\n",
        "print(X_train, y_train)"
      ],
      "execution_count": null,
      "outputs": []
    },
    {
      "cell_type": "code",
      "metadata": {
        "id": "EY8vHXbzIrPT",
        "colab": {
          "base_uri": "https://localhost:8080/",
          "height": 485
        },
        "outputId": "4ad97dff-3d38-411e-a328-ecb83d27bd65"
      },
      "source": [
        "\n",
        "\n",
        "n_estimator = 10000\n",
        "rf = RandomForestClassifier(max_depth=2, n_estimators=n_estimator,\n",
        "                            criterion='entropy', random_state=RANDOM_STATE)\n",
        "rf.fit(X_train, y_train)\n",
        "\n",
        "# The random forest model by itself\n",
        "y_pred_rf = rf.predict_proba(X_test)[:, 1]\n",
        "y_pred = rf.predict(X_test)\n",
        "fpr_rf, tpr_rf, _ = roc_curve(y_test, y_pred_rf)\n",
        "print(classification_report(y_test, y_pred))\n",
        "\n",
        "plt.figure(1)\n",
        "plt.plot([0, 1], [0, 1], 'k--')\n",
        "plt.plot(fpr_rf, tpr_rf, label='RF')\n",
        "plt.xlabel('False positive rate')\n",
        "plt.ylabel('True positive rate')\n",
        "plt.title('ROC curve')\n",
        "plt.legend(loc='best')\n",
        "plt.show()"
      ],
      "execution_count": null,
      "outputs": [
        {
          "output_type": "stream",
          "text": [
            "              precision    recall  f1-score   support\n",
            "\n",
            "         0.0       0.47      1.00      0.64         8\n",
            "         1.0       0.00      0.00      0.00         9\n",
            "\n",
            "    accuracy                           0.47        17\n",
            "   macro avg       0.24      0.50      0.32        17\n",
            "weighted avg       0.22      0.47      0.30        17\n",
            "\n"
          ],
          "name": "stdout"
        },
        {
          "output_type": "stream",
          "text": [
            "/usr/local/lib/python3.7/dist-packages/sklearn/metrics/_classification.py:1272: UndefinedMetricWarning: Precision and F-score are ill-defined and being set to 0.0 in labels with no predicted samples. Use `zero_division` parameter to control this behavior.\n",
            "  _warn_prf(average, modifier, msg_start, len(result))\n"
          ],
          "name": "stderr"
        },
        {
          "output_type": "display_data",
          "data": {
            "image/png": "[encoded data removed]",
            "text/plain": [
              "<Figure size 432x288 with 1 Axes>"
            ]
          },
          "metadata": {
            "tags": [],
            "needs_background": "light"
          }
        }
      ]
    },
    {
      "cell_type": "code",
      "metadata": {
        "id": "2ps2rhvFIrRQ"
      },
      "source": [
        ""
      ],
      "execution_count": null,
      "outputs": []
    },
    {
      "cell_type": "code",
      "metadata": {
        "id": "RHbwFuafbSrB"
      },
      "source": [
        ""
      ],
      "execution_count": null,
      "outputs": []
    },
    {
      "cell_type": "markdown",
      "metadata": {
        "id": "uEr3zenibTOT"
      },
      "source": [
        "### Weights"
      ]
    },
    {
      "cell_type": "code",
      "metadata": {
        "id": "Zun5wf2WbStn"
      },
      "source": [
        "## https://github.com/chrisconlan/algorithmic-trading-with-python/blob/1f615f488a3faa6274a701afccfcf977dfa83570/src/pypm/weights.py\n",
        "import numpy as np\n",
        "import pandas as pd\n",
        "from scipy.stats import hmean\n",
        "\n",
        "def calculate_uniqueness(event_spans: pd.Series, price_index: pd.Series) -> pd.Series:\n",
        "    \"\"\"\n",
        "    event_spans is a series with an index of start dates and values of end dates\n",
        "    of a label.\n",
        "    price_index is an index of underlying dates for the event\n",
        "    Returns a series of uniqueness values that can be used as weights, indexed \n",
        "    as the event start dates. Weights may need to be standardized again before \n",
        "    training.\n",
        "    \"\"\"\n",
        "\n",
        "    # Create a binary dataframe \n",
        "    # value is 1 during event span and 0 otherwise\n",
        "    columns = range(event_spans.shape[0])\n",
        "    df = pd.DataFrame(0, index=price_index, columns=columns)\n",
        "\n",
        "    for i, (event_start, event_end) in enumerate(event_spans.items()):\n",
        "        df[i].loc[event_start:event_end] += 1\n",
        "\n",
        "    # Compute concurrency over event span then calculate uniqueness\n",
        "    avg_uniquenesses = list()\n",
        "    for i, (event_start, event_end) in enumerate(event_spans.items()):\n",
        "        concurrency: pd.Series = df.loc[event_start:event_end].sum(axis=1)\n",
        "        avg_uniqueness = 1 / hmean(concurrency)\n",
        "        avg_uniquenesses.append(avg_uniqueness)\n",
        "\n",
        "    return pd.Series(avg_uniquenesses, index=event_spans.index)\n",
        "\n",
        "  \n",
        "def calculate_weights(event_spans: pd.Series, price_index: pd.Series) -> pd.Series:\n",
        "    return calculate_uniqueness(event_spans, price_index)"
      ],
      "execution_count": null,
      "outputs": []
    },
    {
      "cell_type": "code",
      "metadata": {
        "id": "yzzXKi7-bbH-"
      },
      "source": [
        "#event_labels, event_spans = calculate_labels(close, event_index)\n",
        "\n",
        "weights = calculate_weights(event_spans, close.index)\n"
      ],
      "execution_count": null,
      "outputs": []
    },
    {
      "cell_type": "code",
      "metadata": {
        "id": "ryMN43eLd5ws"
      },
      "source": [
        "def calculate_simple_moving_average(series: pd.Series, n: int=20) -> pd.Series:\n",
        "    \"\"\"Calculates the simple moving average\"\"\"\n",
        "    return series.rolling(n).mean()\n",
        "\n",
        "\n",
        "def calculate_simple_moving_sample_stdev(series: pd.Series, n: int=20) -> pd.Series:\n",
        "    \"\"\"Calculates the simple moving average\"\"\"\n",
        "    return series.rolling(n).std()\n",
        "\n",
        "def calculate_log_return_series(series: pd.Series) -> pd.Series:\n",
        "    \"\"\"\n",
        "    Same as calculate_return_series but with log returns\n",
        "    \"\"\"\n",
        "    shifted_series = series.shift(1, axis=0)\n",
        "    return pd.Series(np.log(series / shifted_series))\n",
        "\n",
        "\n",
        "_calc_delta = calculate_non_uniform_lagged_change\n",
        "_calc_ma = calculate_simple_moving_average\n",
        "_calc_log_return = calculate_log_return_series\n",
        "\n",
        "def _calc_rolling_vol(series, n):\n",
        "    return series.rolling(n).std() * np.sqrt(252 / n)\n",
        "\n",
        "def calculate_features(price_series, revenue_series) -> pd.DataFrame:\n",
        "    \"\"\"\n",
        "    Calculate any and all potentially useful features. Return as a dataframe.\n",
        "    \"\"\"\n",
        "\n",
        "    log_revenue = np.log(revenue_series)\n",
        "    log_prices = np.log(price_series)\n",
        "\n",
        "    log_revenue_ma = _calc_ma(log_revenue, 10)\n",
        "    log_prices_ma = _calc_ma(log_prices, 10)\n",
        "\n",
        "    log_returns = _calc_log_return(price_series)\n",
        "\n",
        "    features_by_name = dict()\n",
        "\n",
        "    for i in [7, 30, 90, 180, 360]:\n",
        "\n",
        "        rev_feature = _calc_delta(log_revenue_ma, i)\n",
        "        price_feature = _calc_delta(log_prices_ma, i)\n",
        "        vol_feature = _calc_rolling_vol(log_returns, i)\n",
        "\n",
        "        features_by_name.update({\n",
        "            f'{i}_day_revenue_delta': rev_feature,\n",
        "            f'{i}_day_return': price_feature,\n",
        "            f'{i}_day_vol': vol_feature,\n",
        "        })\n",
        "\n",
        "    features_df = pd.DataFrame(features_by_name)    \n",
        "    return features_df"
      ],
      "execution_count": null,
      "outputs": []
    },
    {
      "cell_type": "code",
      "metadata": {
        "colab": {
          "base_uri": "https://localhost:8080/"
        },
        "id": "82moMRmIcW2X",
        "outputId": "dd263f52-f5e7-48ed-a642-dbfb8f2c3290"
      },
      "source": [
        "revenue_series = awu_alt.value\n",
        "price_series=awu_eod.close\n",
        "features_df = calculate_features(price_series, revenue_series)"
      ],
      "execution_count": null,
      "outputs": [
        {
          "output_type": "stream",
          "text": [
            "/usr/local/lib/python3.7/dist-packages/ipykernel_launcher.py:33: DeprecationWarning: The default dtype for empty Series will be 'object' instead of 'float64' in a future version. Specify a dtype explicitly to silence this warning.\n"
          ],
          "name": "stderr"
        }
      ]
    },
    {
      "cell_type": "code",
      "metadata": {
        "colab": {
          "base_uri": "https://localhost:8080/",
          "height": 233
        },
        "id": "EB3OYfQ5c-oe",
        "outputId": "786cee42-8b26-4a2a-f4ef-c9ec01d5eb7a"
      },
      "source": [
        "features_df.tail()"
      ],
      "execution_count": null,
      "outputs": [
        {
          "output_type": "execute_result",
          "data": {
            "text/html": [
              "<div>\n",
              "<style scoped>\n",
              "    .dataframe tbody tr th:only-of-type {\n",
              "        vertical-align: middle;\n",
              "    }\n",
              "\n",
              "    .dataframe tbody tr th {\n",
              "        vertical-align: top;\n",
              "    }\n",
              "\n",
              "    .dataframe thead th {\n",
              "        text-align: right;\n",
              "    }\n",
              "</style>\n",
              "<table border=\"1\" class=\"dataframe\">\n",
              "  <thead>\n",
              "    <tr style=\"text-align: right;\">\n",
              "      <th></th>\n",
              "      <th>7_day_revenue_delta</th>\n",
              "      <th>7_day_return</th>\n",
              "      <th>7_day_vol</th>\n",
              "      <th>30_day_revenue_delta</th>\n",
              "      <th>30_day_return</th>\n",
              "      <th>30_day_vol</th>\n",
              "      <th>90_day_revenue_delta</th>\n",
              "      <th>90_day_return</th>\n",
              "      <th>90_day_vol</th>\n",
              "      <th>180_day_revenue_delta</th>\n",
              "      <th>180_day_return</th>\n",
              "      <th>180_day_vol</th>\n",
              "      <th>360_day_revenue_delta</th>\n",
              "      <th>360_day_return</th>\n",
              "      <th>360_day_vol</th>\n",
              "    </tr>\n",
              "    <tr>\n",
              "      <th>date</th>\n",
              "      <th></th>\n",
              "      <th></th>\n",
              "      <th></th>\n",
              "      <th></th>\n",
              "      <th></th>\n",
              "      <th></th>\n",
              "      <th></th>\n",
              "      <th></th>\n",
              "      <th></th>\n",
              "      <th></th>\n",
              "      <th></th>\n",
              "      <th></th>\n",
              "      <th></th>\n",
              "      <th></th>\n",
              "      <th></th>\n",
              "    </tr>\n",
              "  </thead>\n",
              "  <tbody>\n",
              "    <tr>\n",
              "      <th>2019-12-24</th>\n",
              "      <td>0.006010</td>\n",
              "      <td>0.026270</td>\n",
              "      <td>0.073760</td>\n",
              "      <td>0.019417</td>\n",
              "      <td>0.012935</td>\n",
              "      <td>0.046668</td>\n",
              "      <td>0.049910</td>\n",
              "      <td>0.096116</td>\n",
              "      <td>0.030863</td>\n",
              "      <td>0.102029</td>\n",
              "      <td>-0.032083</td>\n",
              "      <td>0.030059</td>\n",
              "      <td>-0.113051</td>\n",
              "      <td>0.053401</td>\n",
              "      <td>0.020970</td>\n",
              "    </tr>\n",
              "    <tr>\n",
              "      <th>2019-12-26</th>\n",
              "      <td>0.005577</td>\n",
              "      <td>0.018070</td>\n",
              "      <td>0.068822</td>\n",
              "      <td>0.020280</td>\n",
              "      <td>0.019746</td>\n",
              "      <td>0.046697</td>\n",
              "      <td>0.012849</td>\n",
              "      <td>0.114193</td>\n",
              "      <td>0.030894</td>\n",
              "      <td>0.103517</td>\n",
              "      <td>-0.030665</td>\n",
              "      <td>0.029978</td>\n",
              "      <td>-0.107165</td>\n",
              "      <td>0.058042</td>\n",
              "      <td>0.020971</td>\n",
              "    </tr>\n",
              "    <tr>\n",
              "      <th>2019-12-27</th>\n",
              "      <td>-0.019436</td>\n",
              "      <td>0.015026</td>\n",
              "      <td>0.070837</td>\n",
              "      <td>0.003551</td>\n",
              "      <td>0.021306</td>\n",
              "      <td>0.047114</td>\n",
              "      <td>-0.005271</td>\n",
              "      <td>0.123274</td>\n",
              "      <td>0.030665</td>\n",
              "      <td>0.088142</td>\n",
              "      <td>-0.031161</td>\n",
              "      <td>0.029942</td>\n",
              "      <td>-0.112640</td>\n",
              "      <td>0.055510</td>\n",
              "      <td>0.020894</td>\n",
              "    </tr>\n",
              "    <tr>\n",
              "      <th>2019-12-30</th>\n",
              "      <td>-0.049284</td>\n",
              "      <td>0.007775</td>\n",
              "      <td>0.065048</td>\n",
              "      <td>-0.040252</td>\n",
              "      <td>0.030498</td>\n",
              "      <td>0.044671</td>\n",
              "      <td>-0.035026</td>\n",
              "      <td>0.131376</td>\n",
              "      <td>0.030649</td>\n",
              "      <td>0.079554</td>\n",
              "      <td>-0.030299</td>\n",
              "      <td>0.029943</td>\n",
              "      <td>-0.145081</td>\n",
              "      <td>0.057743</td>\n",
              "      <td>0.020828</td>\n",
              "    </tr>\n",
              "    <tr>\n",
              "      <th>2019-12-31</th>\n",
              "      <td>-0.067621</td>\n",
              "      <td>0.000667</td>\n",
              "      <td>0.075593</td>\n",
              "      <td>-0.068750</td>\n",
              "      <td>0.028968</td>\n",
              "      <td>0.045319</td>\n",
              "      <td>-0.068539</td>\n",
              "      <td>0.138136</td>\n",
              "      <td>0.030726</td>\n",
              "      <td>0.072449</td>\n",
              "      <td>-0.030011</td>\n",
              "      <td>0.029973</td>\n",
              "      <td>-0.164144</td>\n",
              "      <td>0.052612</td>\n",
              "      <td>0.020839</td>\n",
              "    </tr>\n",
              "  </tbody>\n",
              "</table>\n",
              "</div>"
            ],
            "text/plain": [
              "            7_day_revenue_delta  7_day_return  ...  360_day_return  360_day_vol\n",
              "date                                           ...                             \n",
              "2019-12-24             0.006010      0.026270  ...        0.053401     0.020970\n",
              "2019-12-26             0.005577      0.018070  ...        0.058042     0.020971\n",
              "2019-12-27            -0.019436      0.015026  ...        0.055510     0.020894\n",
              "2019-12-30            -0.049284      0.007775  ...        0.057743     0.020828\n",
              "2019-12-31            -0.067621      0.000667  ...        0.052612     0.020839\n",
              "\n",
              "[5 rows x 15 columns]"
            ]
          },
          "metadata": {
            "tags": []
          },
          "execution_count": 117
        }
      ]
    },
    {
      "cell_type": "code",
      "metadata": {
        "id": "7N0LlzPxpDFU"
      },
      "source": [
        ""
      ],
      "execution_count": null,
      "outputs": []
    },
    {
      "cell_type": "code",
      "metadata": {
        "id": "h7T9ralIetLq"
      },
      "source": [
        "# https://github.com/chrisconlan/algorithmic-trading-with-python/blob/1f615f488a3faa6274a701afccfcf977dfa83570/listings/chapter_3/3_7_example_signals.py\n",
        "\n",
        "def create_macd_signal(series: pd.Series, n1: int=5, n2: int=34) -> pd.Series:\n",
        "    \"\"\"\n",
        "    Create a momentum-based signal based on the MACD crossover principle. \n",
        "    Generate a buy signal when the MACD cross above zero, and a sell signal when\n",
        "    it crosses below zero.\n",
        "    \"\"\"\n",
        "\n",
        "    # Calculate the macd and get the signs of the values.\n",
        "    macd = calculate_macd_oscillator(series, n1, n2)\n",
        "    macd_sign = np.sign(macd)\n",
        "\n",
        "    # Create a copy shifted by some amount.\n",
        "    macd_shifted_sign = macd_sign.shift(1, axis=0)\n",
        "\n",
        "    # Multiply by the sign by the boolean. This will have the effect of casting\n",
        "    # the boolean to an integer (either 0 or 1) and then multiply by the sign\n",
        "    # (either -1, 0 or 1).\n",
        "    return macd_sign * (macd_sign != macd_shifted_sign)\n",
        "\n",
        "\n",
        "def create_bollinger_band_signal(series: pd.Series, n: int=20) -> pd.Series:\n",
        "    \"\"\"\n",
        "    Create a reversal-based signal based on the upper and lower bands of the \n",
        "    Bollinger bands. Generate a buy signal when the price is below the lower \n",
        "    band, and a sell signal when the price is above the upper band.\n",
        "    \"\"\"\n",
        "    bollinger_bands = calculate_bollinger_bands(series, n)\n",
        "    sell = series > bollinger_bands['upper']\n",
        "    buy = series < bollinger_bands['lower']\n",
        "    return (1*buy - 1*sell)"
      ],
      "execution_count": null,
      "outputs": []
    }
  ]
}