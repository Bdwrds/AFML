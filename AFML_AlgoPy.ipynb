{
  "nbformat": 4,
  "nbformat_minor": 0,
  "metadata": {
    "colab": {
      "name": "AFML/AlgoPy.ipynb",
      "provenance": [],
      "authorship_tag": "ABX9TyOjluiyLBBiL3mB7T+u5fjf",
      "include_colab_link": true
    },
    "kernelspec": {
      "name": "python3",
      "display_name": "Python 3"
    },
    "language_info": {
      "name": "python"
    }
  },
  "cells": [
    {
      "cell_type": "markdown",
      "metadata": {
        "id": "view-in-github",
        "colab_type": "text"
      },
      "source": [
        "<a href=\"https://colab.research.google.com/github/DoraTheExploring/AFML/blob/master/AFML_AlgoPy.ipynb\" target=\"_parent\"><img src=\"https://colab.research.google.com/assets/colab-badge.svg\" alt=\"Open In Colab\"/></a>"
      ]
    },
    {
      "cell_type": "markdown",
      "metadata": {
        "id": "KHbOk2Qbho0u"
      },
      "source": [
        "Get Data"
      ]
    },
    {
      "cell_type": "code",
      "metadata": {
        "colab": {
          "base_uri": "https://localhost:8080/"
        },
        "id": "LiT8Dgidhpac",
        "outputId": "03f0050f-edb5-4593-fa67-137117ba9eb6"
      },
      "source": [
        "!wget https://raw.githubusercontent.com/chrisconlan/algorithmic-trading-with-python/1f615f488a3faa6274a701afccfcf977dfa83570/data/alternative_data/AWU.csv -O \"awu_alt.csv\"\n",
        "!wget https://raw.githubusercontent.com/chrisconlan/algorithmic-trading-with-python/1f615f488a3faa6274a701afccfcf977dfa83570/data/eod/AWU.csv -O \"awu_eod.csv\""
      ],
      "execution_count": null,
      "outputs": [
        {
          "output_type": "stream",
          "text": [
            "--2021-04-25 14:55:24--  https://raw.githubusercontent.com/chrisconlan/algorithmic-trading-with-python/1f615f488a3faa6274a701afccfcf977dfa83570/data/alternative_data/AWU.csv\n",
            "Resolving raw.githubusercontent.com (raw.githubusercontent.com)... 185.199.108.133, 185.199.109.133, 185.199.110.133, ...\n",
            "Connecting to raw.githubusercontent.com (raw.githubusercontent.com)|185.199.108.133|:443... connected.\n",
            "HTTP request sent, awaiting response... 200 OK\n",
            "Length: 22773 (22K) [text/plain]\n",
            "Saving to: ‘awu_alt.csv’\n",
            "\n",
            "awu_alt.csv         100%[===================>]  22.24K  --.-KB/s    in 0.001s  \n",
            "\n",
            "2021-04-25 14:55:24 (16.1 MB/s) - ‘awu_alt.csv’ saved [22773/22773]\n",
            "\n",
            "--2021-04-25 14:55:24--  https://raw.githubusercontent.com/chrisconlan/algorithmic-trading-with-python/1f615f488a3faa6274a701afccfcf977dfa83570/data/eod/AWU.csv\n",
            "Resolving raw.githubusercontent.com (raw.githubusercontent.com)... 185.199.108.133, 185.199.109.133, 185.199.110.133, ...\n",
            "Connecting to raw.githubusercontent.com (raw.githubusercontent.com)|185.199.108.133|:443... connected.\n",
            "HTTP request sent, awaiting response... 200 OK\n",
            "Length: 115288 (113K) [text/plain]\n",
            "Saving to: ‘awu_eod.csv’\n",
            "\n",
            "awu_eod.csv         100%[===================>] 112.59K  --.-KB/s    in 0.02s   \n",
            "\n",
            "2021-04-25 14:55:25 (5.08 MB/s) - ‘awu_eod.csv’ saved [115288/115288]\n",
            "\n"
          ],
          "name": "stdout"
        }
      ]
    },
    {
      "cell_type": "code",
      "metadata": {
        "colab": {
          "base_uri": "https://localhost:8080/"
        },
        "id": "9-Wi1CT8hpdY",
        "outputId": "ffc49bee-3d0c-466c-ae9b-57934620f459"
      },
      "source": [
        "!ls -ls"
      ],
      "execution_count": null,
      "outputs": [
        {
          "output_type": "stream",
          "text": [
            "total 144\n",
            " 24 -rw-r--r-- 1 root root  22773 Apr 25 14:55 awu_alt.csv\n",
            "116 -rw-r--r-- 1 root root 115288 Apr 25 14:55 awu_eod.csv\n",
            "  4 drwxr-xr-x 1 root root   4096 Apr 21 13:39 sample_data\n"
          ],
          "name": "stdout"
        }
      ]
    },
    {
      "cell_type": "markdown",
      "metadata": {
        "id": "a0QutxZWhr_e"
      },
      "source": [
        "EDA"
      ]
    },
    {
      "cell_type": "code",
      "metadata": {
        "id": "J1aA2kKyhEUs"
      },
      "source": [
        "import pandas as pd\n",
        "import numpy as np\n",
        "import matplotlib.pyplot as plt"
      ],
      "execution_count": null,
      "outputs": []
    },
    {
      "cell_type": "code",
      "metadata": {
        "id": "Iop0IeXqhjsu"
      },
      "source": [
        "awu_eod = pd.read_csv('awu_eod.csv')\n",
        "awu_alt = pd.read_csv('awu_alt.csv')\n",
        "awu_eod.index = pd.to_datetime(awu_eod.date)\n",
        "awu_alt.index = pd.to_datetime(awu_alt.date)"
      ],
      "execution_count": null,
      "outputs": []
    },
    {
      "cell_type": "code",
      "metadata": {
        "colab": {
          "base_uri": "https://localhost:8080/",
          "height": 233
        },
        "id": "uTibXz4uhjvG",
        "outputId": "23127798-8c09-4d03-803a-80f8a1f9e4c8"
      },
      "source": [
        "awu_eod.head()"
      ],
      "execution_count": null,
      "outputs": [
        {
          "output_type": "execute_result",
          "data": {
            "text/html": [
              "<div>\n",
              "<style scoped>\n",
              "    .dataframe tbody tr th:only-of-type {\n",
              "        vertical-align: middle;\n",
              "    }\n",
              "\n",
              "    .dataframe tbody tr th {\n",
              "        vertical-align: top;\n",
              "    }\n",
              "\n",
              "    .dataframe thead th {\n",
              "        text-align: right;\n",
              "    }\n",
              "</style>\n",
              "<table border=\"1\" class=\"dataframe\">\n",
              "  <thead>\n",
              "    <tr style=\"text-align: right;\">\n",
              "      <th></th>\n",
              "      <th>date</th>\n",
              "      <th>open</th>\n",
              "      <th>close</th>\n",
              "      <th>low</th>\n",
              "      <th>high</th>\n",
              "      <th>volume</th>\n",
              "    </tr>\n",
              "    <tr>\n",
              "      <th>date</th>\n",
              "      <th></th>\n",
              "      <th></th>\n",
              "      <th></th>\n",
              "      <th></th>\n",
              "      <th></th>\n",
              "      <th></th>\n",
              "    </tr>\n",
              "  </thead>\n",
              "  <tbody>\n",
              "    <tr>\n",
              "      <th>2010-01-04</th>\n",
              "      <td>2010-01-04</td>\n",
              "      <td>193.94</td>\n",
              "      <td>191.70</td>\n",
              "      <td>190.63</td>\n",
              "      <td>195.51</td>\n",
              "      <td>968029</td>\n",
              "    </tr>\n",
              "    <tr>\n",
              "      <th>2010-01-05</th>\n",
              "      <td>2010-01-05</td>\n",
              "      <td>191.02</td>\n",
              "      <td>188.17</td>\n",
              "      <td>186.99</td>\n",
              "      <td>192.42</td>\n",
              "      <td>1427075</td>\n",
              "    </tr>\n",
              "    <tr>\n",
              "      <th>2010-01-06</th>\n",
              "      <td>2010-01-06</td>\n",
              "      <td>187.17</td>\n",
              "      <td>186.50</td>\n",
              "      <td>185.10</td>\n",
              "      <td>190.07</td>\n",
              "      <td>879014</td>\n",
              "    </tr>\n",
              "    <tr>\n",
              "      <th>2010-01-07</th>\n",
              "      <td>2010-01-07</td>\n",
              "      <td>185.03</td>\n",
              "      <td>185.19</td>\n",
              "      <td>183.63</td>\n",
              "      <td>186.64</td>\n",
              "      <td>1003719</td>\n",
              "    </tr>\n",
              "    <tr>\n",
              "      <th>2010-01-08</th>\n",
              "      <td>2010-01-08</td>\n",
              "      <td>184.67</td>\n",
              "      <td>187.02</td>\n",
              "      <td>182.78</td>\n",
              "      <td>187.27</td>\n",
              "      <td>804716</td>\n",
              "    </tr>\n",
              "  </tbody>\n",
              "</table>\n",
              "</div>"
            ],
            "text/plain": [
              "                  date    open   close     low    high   volume\n",
              "date                                                           \n",
              "2010-01-04  2010-01-04  193.94  191.70  190.63  195.51   968029\n",
              "2010-01-05  2010-01-05  191.02  188.17  186.99  192.42  1427075\n",
              "2010-01-06  2010-01-06  187.17  186.50  185.10  190.07   879014\n",
              "2010-01-07  2010-01-07  185.03  185.19  183.63  186.64  1003719\n",
              "2010-01-08  2010-01-08  184.67  187.02  182.78  187.27   804716"
            ]
          },
          "metadata": {
            "tags": []
          },
          "execution_count": 12
        }
      ]
    },
    {
      "cell_type": "code",
      "metadata": {
        "colab": {
          "base_uri": "https://localhost:8080/",
          "height": 233
        },
        "id": "7ZBYopE0hjxn",
        "outputId": "f932387e-dc7d-4415-9fb9-bcd262ad20bc"
      },
      "source": [
        "awu_alt.head()"
      ],
      "execution_count": null,
      "outputs": [
        {
          "output_type": "execute_result",
          "data": {
            "text/html": [
              "<div>\n",
              "<style scoped>\n",
              "    .dataframe tbody tr th:only-of-type {\n",
              "        vertical-align: middle;\n",
              "    }\n",
              "\n",
              "    .dataframe tbody tr th {\n",
              "        vertical-align: top;\n",
              "    }\n",
              "\n",
              "    .dataframe thead th {\n",
              "        text-align: right;\n",
              "    }\n",
              "</style>\n",
              "<table border=\"1\" class=\"dataframe\">\n",
              "  <thead>\n",
              "    <tr style=\"text-align: right;\">\n",
              "      <th></th>\n",
              "      <th>date</th>\n",
              "      <th>value</th>\n",
              "    </tr>\n",
              "    <tr>\n",
              "      <th>date</th>\n",
              "      <th></th>\n",
              "      <th></th>\n",
              "    </tr>\n",
              "  </thead>\n",
              "  <tbody>\n",
              "    <tr>\n",
              "      <th>2015-03-31</th>\n",
              "      <td>2015-03-31</td>\n",
              "      <td>23305.0</td>\n",
              "    </tr>\n",
              "    <tr>\n",
              "      <th>2015-04-01</th>\n",
              "      <td>2015-04-01</td>\n",
              "      <td>20640.0</td>\n",
              "    </tr>\n",
              "    <tr>\n",
              "      <th>2015-04-02</th>\n",
              "      <td>2015-04-02</td>\n",
              "      <td>23522.0</td>\n",
              "    </tr>\n",
              "    <tr>\n",
              "      <th>2015-04-06</th>\n",
              "      <td>2015-04-06</td>\n",
              "      <td>24449.0</td>\n",
              "    </tr>\n",
              "    <tr>\n",
              "      <th>2015-04-07</th>\n",
              "      <td>2015-04-07</td>\n",
              "      <td>21489.0</td>\n",
              "    </tr>\n",
              "  </tbody>\n",
              "</table>\n",
              "</div>"
            ],
            "text/plain": [
              "                  date    value\n",
              "date                           \n",
              "2015-03-31  2015-03-31  23305.0\n",
              "2015-04-01  2015-04-01  20640.0\n",
              "2015-04-02  2015-04-02  23522.0\n",
              "2015-04-06  2015-04-06  24449.0\n",
              "2015-04-07  2015-04-07  21489.0"
            ]
          },
          "metadata": {
            "tags": []
          },
          "execution_count": 13
        }
      ]
    },
    {
      "cell_type": "code",
      "metadata": {
        "colab": {
          "base_uri": "https://localhost:8080/",
          "height": 293
        },
        "id": "jJ5mNQNWhev0",
        "outputId": "14cde385-655e-4c1f-8d7a-bc9e6b64b308"
      },
      "source": [
        "fig, ax1 = plt.subplots()\n",
        "ax2 = ax1.twinx()\n",
        "ax1.plot(awu_eod.index, awu_eod.close, 'b-')\n",
        "ax2.plot(awu_eod.index, awu_eod.volume, 'r-')"
      ],
      "execution_count": null,
      "outputs": [
        {
          "output_type": "execute_result",
          "data": {
            "text/plain": [
              "[<matplotlib.lines.Line2D at 0x7f5e4d890b90>]"
            ]
          },
          "metadata": {
            "tags": []
          },
          "execution_count": 14
        },
        {
          "output_type": "display_data",
          "data": {
            "image/png": "[encoded data removed]",
            "text/plain": [
              "<Figure size 432x288 with 2 Axes>"
            ]
          },
          "metadata": {
            "tags": [],
            "needs_background": "light"
          }
        }
      ]
    },
    {
      "cell_type": "code",
      "metadata": {
        "colab": {
          "base_uri": "https://localhost:8080/",
          "height": 286
        },
        "id": "QwAdR-VCheyY",
        "outputId": "2fd76fd3-42be-4f48-9358-be15365dd9cd"
      },
      "source": [
        "awu_alt.value.plot()"
      ],
      "execution_count": null,
      "outputs": [
        {
          "output_type": "execute_result",
          "data": {
            "text/plain": [
              "<matplotlib.axes._subplots.AxesSubplot at 0x7f5e4d802950>"
            ]
          },
          "metadata": {
            "tags": []
          },
          "execution_count": 15
        },
        {
          "output_type": "display_data",
          "data": {
            "image/png": "[encoded data removed]",
            "text/plain": [
              "<Figure size 432x288 with 1 Axes>"
            ]
          },
          "metadata": {
            "tags": [],
            "needs_background": "light"
          }
        }
      ]
    },
    {
      "cell_type": "code",
      "metadata": {
        "id": "9moqQhCfhe0w"
      },
      "source": [
        "## The symmetric cusum filter\n",
        "\"\"\"\n",
        "Quality control method designed to detect a shift in the mean value of a measure quantity away from a target value.\n",
        "\n",
        "\"\"\"\n",
        "\n",
        "def getCusumEvents(raw, threshold):\n",
        "  events, pos, neg = [], 0, 0\n",
        "  diff = raw.diff()\n",
        "  for ii in diff.index[1:]:\n",
        "    pos, neg = max(0, pos+diff.loc[ii]), min(0, neg+diff.loc[ii])\n",
        "    if neg < -threshold:\n",
        "      neg=0; events.append(ii)\n",
        "    elif pos> threshold:\n",
        "      pos=0; events.append(ii)\n",
        "  return(pd.DatetimeIndex(events))\n",
        "\n",
        "\n",
        "def getCusumData(raw, threshold):\n",
        "  data, pos, neg = [], 0, 0\n",
        "  data.append([pos, neg])\n",
        "  diff = raw.diff()\n",
        "  for ii in diff.index[1:]:\n",
        "    pos, neg = max(0, pos+diff.loc[ii]), min(0, neg+diff.loc[ii])\n",
        "    if neg < -threshold:\n",
        "      neg=0\n",
        "    elif pos> threshold:\n",
        "      pos=0; \n",
        "    data.append([pos, neg])\n",
        "  return(pd.DataFrame(data, columns=['pos', 'neg']))\n"
      ],
      "execution_count": null,
      "outputs": []
    },
    {
      "cell_type": "code",
      "metadata": {
        "colab": {
          "base_uri": "https://localhost:8080/"
        },
        "id": "v3pMcjudhe3W",
        "outputId": "0d2af8a1-22a4-4459-e648-decaf69189d2"
      },
      "source": [
        "threshold = 0.3\n",
        "series = awu_alt.value\n",
        "series_log = np.log(series)\n",
        "events = getCusumEvents(series_log, threshold)\n",
        "print(len(series))\n",
        "print(len(events))\n",
        "print(events[:5])"
      ],
      "execution_count": null,
      "outputs": [
        {
          "output_type": "stream",
          "text": [
            "1198\n",
            "147\n",
            "DatetimeIndex(['2015-04-23', '2015-05-20', '2015-06-02', '2015-07-02',\n",
            "               '2015-07-24'],\n",
            "              dtype='datetime64[ns]', freq=None)\n"
          ],
          "name": "stdout"
        }
      ]
    },
    {
      "cell_type": "code",
      "metadata": {
        "colab": {
          "base_uri": "https://localhost:8080/",
          "height": 565
        },
        "id": "zpEOObPlhHYE",
        "outputId": "5e4603a4-a6af-45ee-a3c9-efe66191d915"
      },
      "source": [
        "series_sub = series[-50:]\n",
        "events_sub = events[events.slice_indexer(series_sub.index.min())]\n",
        "\n",
        "plt.figure(figsize=(10, 8), dpi=80)\n",
        "plt.plot(series_sub, 'r-')\n",
        "for dte in events_sub.to_pydatetime():\n",
        "    plt.axvline(x=dte, color='k', linestyle='--')\n",
        "plt.xlabel('EOD Prices')\n",
        "plt.ylabel('Date')\n",
        "plt.title('EOD Prices with Events')\n",
        "plt.grid(True)\n",
        "plt.show()"
      ],
      "execution_count": null,
      "outputs": [
        {
          "output_type": "display_data",
          "data": {
            "image/png": "[encoded data removed]",
            "text/plain": [
              "<Figure size 800x640 with 1 Axes>"
            ]
          },
          "metadata": {
            "tags": [],
            "needs_background": "light"
          }
        }
      ]
    },
    {
      "cell_type": "code",
      "metadata": {
        "colab": {
          "base_uri": "https://localhost:8080/",
          "height": 686
        },
        "id": "lopeAs7qhHai",
        "outputId": "a1525d24-8ba7-4321-92d3-6afdddc47a1d"
      },
      "source": [
        "cusumData = getCusumData(series_log, threshold)\n",
        "cusumData.index=series_log.index\n",
        "print(cusumData.head())\n",
        "\n",
        "cusumData_sub = cusumData.loc[cusumData.index>series_sub.index.min()]\n",
        "\n",
        "plt.figure(figsize=(10, 8), dpi=80)\n",
        "plt.plot(cusumData_sub.pos, 'b-')\n",
        "plt.plot(cusumData_sub.neg, 'r-')\n",
        "for dte in events_sub.to_pydatetime():\n",
        "    plt.axvline(x=dte, color='k', linestyle='--')\n",
        "plt.xlabel('EOD Prices')\n",
        "plt.ylabel('Date')\n",
        "plt.title('EOD Prices with Events')\n",
        "plt.grid(True)\n",
        "plt.show()"
      ],
      "execution_count": null,
      "outputs": [
        {
          "output_type": "stream",
          "text": [
            "                 pos       neg\n",
            "date                          \n",
            "2015-03-31  0.000000  0.000000\n",
            "2015-04-01  0.000000 -0.121437\n",
            "2015-04-02  0.130705  0.000000\n",
            "2015-04-06  0.169358  0.000000\n",
            "2015-04-07  0.040310 -0.129048\n"
          ],
          "name": "stdout"
        },
        {
          "output_type": "display_data",
          "data": {
            "image/png": "[encoded data removed]",
            "text/plain": [
              "<Figure size 800x640 with 1 Axes>"
            ]
          },
          "metadata": {
            "tags": [],
            "needs_background": "light"
          }
        }
      ]
    },
    {
      "cell_type": "code",
      "metadata": {
        "id": "w1aowncPiNuK"
      },
      "source": [
        "## Daily volatility estimates\n",
        "\"\"\"\n",
        "\"\"\"\n",
        "\n",
        "def getDailyVol(close, span=100):\n",
        "  df = close.index.searchsorted(close.index-pd.Timedelta(days=1))\n",
        "  df = df[df>0]\n",
        "  df = pd.Series(close.index[df-1], index=close.index[close.shape[0]-df.shape[0]:])\n",
        "  df = close.loc[df.index]/ close.loc[df.values].values-1\n",
        "  df = df.ewm(span=span).std()\n",
        "  return df"
      ],
      "execution_count": null,
      "outputs": []
    },
    {
      "cell_type": "code",
      "metadata": {
        "colab": {
          "base_uri": "https://localhost:8080/"
        },
        "id": "4mR5rYb3hHcz",
        "outputId": "606ccfe5-c0d4-428c-af24-a823a24d4cc7"
      },
      "source": [
        "# Get events, labels, weights, and features\n",
        "close_alt=awu_alt.value\n",
        "close = awu_eod.close\n",
        "\n",
        "\n",
        "dailyVol=getDailyVol(close_alt)\n",
        "\n",
        "event_index = calculate_events(awu_alt.value, threshold=dailyVol.mean()*2)\n",
        "event_labels, event_spans = calculate_labels(close, event_index, label_threshold=1, time_delta_days=1)\n",
        "\n",
        "print(close.shape)\n",
        "print(close_alt.shape)\n",
        "print(event_index.shape)\n",
        "print(event_labels.shape)\n",
        "print(event_spans.shape)\n",
        "print(event_labels.value_counts())"
      ],
      "execution_count": null,
      "outputs": [
        {
          "output_type": "stream",
          "text": [
            "/usr/local/lib/python3.7/dist-packages/ipykernel_launcher.py:14: DeprecationWarning: The default dtype for empty Series will be 'object' instead of 'float64' in a future version. Specify a dtype explicitly to silence this warning.\n",
            "  \n"
          ],
          "name": "stderr"
        },
        {
          "output_type": "stream",
          "text": [
            "(2516,)\n",
            "(1198,)\n",
            "(154,)\n",
            "(154,)\n",
            "(154,)\n",
            " 0    88\n",
            " 1    36\n",
            "-1    30\n",
            "dtype: int64\n"
          ],
          "name": "stdout"
        }
      ]
    },
    {
      "cell_type": "code",
      "metadata": {
        "colab": {
          "base_uri": "https://localhost:8080/"
        },
        "id": "6rrwcdSXhHfL",
        "outputId": "aec8890e-90b4-4091-9d52-59b3595b64b0"
      },
      "source": [
        "revenue_series = awu_alt.value\n",
        "price_series=awu_eod.close\n",
        "\n",
        "weights = calculate_weights(event_spans, close.index)\n",
        "features_df = calculate_features(price_series, revenue_series)"
      ],
      "execution_count": null,
      "outputs": [
        {
          "output_type": "stream",
          "text": [
            "/usr/local/lib/python3.7/dist-packages/ipykernel_launcher.py:14: DeprecationWarning: The default dtype for empty Series will be 'object' instead of 'float64' in a future version. Specify a dtype explicitly to silence this warning.\n",
            "  \n"
          ],
          "name": "stderr"
        }
      ]
    },
    {
      "cell_type": "code",
      "metadata": {
        "id": "2hiRSFGYisBq"
      },
      "source": [
        "features_on_events = features_df.loc[event_index]"
      ],
      "execution_count": null,
      "outputs": []
    },
    {
      "cell_type": "code",
      "metadata": {
        "id": "orPe0phAhNlk"
      },
      "source": [
        "# Convert labels and events to a data frame\n",
        "labels_df = pd.DataFrame(event_labels)\n",
        "labels_df.columns = ['y']\n",
        "\n",
        "# Converts weights to a data frame\n",
        "weights_df = pd.DataFrame(weights)\n",
        "weights_df.columns = ['weights']\n",
        "\n",
        "# Concatenate features to labels\n",
        "df = pd.concat([features_on_events, weights_df, labels_df], axis=1)\n"
      ],
      "execution_count": null,
      "outputs": []
    },
    {
      "cell_type": "code",
      "metadata": {
        "colab": {
          "base_uri": "https://localhost:8080/",
          "height": 202
        },
        "id": "t2BmWH_7jFIT",
        "outputId": "ceae41c1-8ea4-49d7-a7e1-64f99cb8efdd"
      },
      "source": [
        "df.head()"
      ],
      "execution_count": null,
      "outputs": [
        {
          "output_type": "execute_result",
          "data": {
            "text/html": [
              "<div>\n",
              "<style scoped>\n",
              "    .dataframe tbody tr th:only-of-type {\n",
              "        vertical-align: middle;\n",
              "    }\n",
              "\n",
              "    .dataframe tbody tr th {\n",
              "        vertical-align: top;\n",
              "    }\n",
              "\n",
              "    .dataframe thead th {\n",
              "        text-align: right;\n",
              "    }\n",
              "</style>\n",
              "<table border=\"1\" class=\"dataframe\">\n",
              "  <thead>\n",
              "    <tr style=\"text-align: right;\">\n",
              "      <th></th>\n",
              "      <th>7_day_revenue_delta</th>\n",
              "      <th>7_day_return</th>\n",
              "      <th>7_day_vol</th>\n",
              "      <th>30_day_revenue_delta</th>\n",
              "      <th>30_day_return</th>\n",
              "      <th>30_day_vol</th>\n",
              "      <th>90_day_revenue_delta</th>\n",
              "      <th>90_day_return</th>\n",
              "      <th>90_day_vol</th>\n",
              "      <th>180_day_revenue_delta</th>\n",
              "      <th>180_day_return</th>\n",
              "      <th>180_day_vol</th>\n",
              "      <th>360_day_revenue_delta</th>\n",
              "      <th>360_day_return</th>\n",
              "      <th>360_day_vol</th>\n",
              "      <th>weights</th>\n",
              "      <th>y</th>\n",
              "    </tr>\n",
              "  </thead>\n",
              "  <tbody>\n",
              "    <tr>\n",
              "      <th>2015-04-23</th>\n",
              "      <td>-0.058080</td>\n",
              "      <td>0.002107</td>\n",
              "      <td>0.072213</td>\n",
              "      <td>NaN</td>\n",
              "      <td>-0.032309</td>\n",
              "      <td>0.035793</td>\n",
              "      <td>NaN</td>\n",
              "      <td>-0.090532</td>\n",
              "      <td>0.027268</td>\n",
              "      <td>NaN</td>\n",
              "      <td>-0.071749</td>\n",
              "      <td>0.017489</td>\n",
              "      <td>NaN</td>\n",
              "      <td>-0.027617</td>\n",
              "      <td>0.012966</td>\n",
              "      <td>1.0</td>\n",
              "      <td>-1</td>\n",
              "    </tr>\n",
              "    <tr>\n",
              "      <th>2015-04-28</th>\n",
              "      <td>-0.032315</td>\n",
              "      <td>0.003338</td>\n",
              "      <td>0.039035</td>\n",
              "      <td>NaN</td>\n",
              "      <td>-0.013656</td>\n",
              "      <td>0.034050</td>\n",
              "      <td>NaN</td>\n",
              "      <td>-0.081720</td>\n",
              "      <td>0.026664</td>\n",
              "      <td>NaN</td>\n",
              "      <td>-0.093136</td>\n",
              "      <td>0.017419</td>\n",
              "      <td>NaN</td>\n",
              "      <td>-0.009025</td>\n",
              "      <td>0.012942</td>\n",
              "      <td>1.0</td>\n",
              "      <td>1</td>\n",
              "    </tr>\n",
              "    <tr>\n",
              "      <th>2015-05-20</th>\n",
              "      <td>-0.073328</td>\n",
              "      <td>-0.016397</td>\n",
              "      <td>0.098346</td>\n",
              "      <td>-0.072577</td>\n",
              "      <td>-0.042698</td>\n",
              "      <td>0.036327</td>\n",
              "      <td>NaN</td>\n",
              "      <td>-0.113203</td>\n",
              "      <td>0.025552</td>\n",
              "      <td>NaN</td>\n",
              "      <td>-0.200780</td>\n",
              "      <td>0.017325</td>\n",
              "      <td>NaN</td>\n",
              "      <td>-0.034035</td>\n",
              "      <td>0.012989</td>\n",
              "      <td>1.0</td>\n",
              "      <td>-1</td>\n",
              "    </tr>\n",
              "    <tr>\n",
              "      <th>2015-05-28</th>\n",
              "      <td>-0.071980</td>\n",
              "      <td>-0.029653</td>\n",
              "      <td>0.298965</td>\n",
              "      <td>-0.119059</td>\n",
              "      <td>-0.088636</td>\n",
              "      <td>0.072394</td>\n",
              "      <td>NaN</td>\n",
              "      <td>-0.151991</td>\n",
              "      <td>0.033094</td>\n",
              "      <td>NaN</td>\n",
              "      <td>-0.250718</td>\n",
              "      <td>0.020348</td>\n",
              "      <td>NaN</td>\n",
              "      <td>-0.109178</td>\n",
              "      <td>0.014027</td>\n",
              "      <td>1.0</td>\n",
              "      <td>0</td>\n",
              "    </tr>\n",
              "    <tr>\n",
              "      <th>2015-06-16</th>\n",
              "      <td>0.009877</td>\n",
              "      <td>0.000034</td>\n",
              "      <td>0.062764</td>\n",
              "      <td>-0.015939</td>\n",
              "      <td>-0.067033</td>\n",
              "      <td>0.073066</td>\n",
              "      <td>NaN</td>\n",
              "      <td>-0.150980</td>\n",
              "      <td>0.032253</td>\n",
              "      <td>NaN</td>\n",
              "      <td>-0.254999</td>\n",
              "      <td>0.020283</td>\n",
              "      <td>NaN</td>\n",
              "      <td>-0.105316</td>\n",
              "      <td>0.014014</td>\n",
              "      <td>1.0</td>\n",
              "      <td>0</td>\n",
              "    </tr>\n",
              "  </tbody>\n",
              "</table>\n",
              "</div>"
            ],
            "text/plain": [
              "            7_day_revenue_delta  7_day_return  ...  weights  y\n",
              "2015-04-23            -0.058080      0.002107  ...      1.0 -1\n",
              "2015-04-28            -0.032315      0.003338  ...      1.0  1\n",
              "2015-05-20            -0.073328     -0.016397  ...      1.0 -1\n",
              "2015-05-28            -0.071980     -0.029653  ...      1.0  0\n",
              "2015-06-16             0.009877      0.000034  ...      1.0  0\n",
              "\n",
              "[5 rows x 17 columns]"
            ]
          },
          "metadata": {
            "tags": []
          },
          "execution_count": 40
        }
      ]
    },
    {
      "cell_type": "code",
      "metadata": {
        "id": "WgjTN2EDjiRs"
      },
      "source": [
        ""
      ],
      "execution_count": null,
      "outputs": []
    },
    {
      "cell_type": "code",
      "metadata": {
        "colab": {
          "base_uri": "https://localhost:8080/"
        },
        "id": "DzMUlSO6jFKr",
        "outputId": "688d9ac3-ef28-4152-e0c4-052415d76f6d"
      },
      "source": [
        "awu_eod = pd.read_csv('awu_eod.csv')\n",
        "awu_alt = pd.read_csv('awu_alt.csv')\n",
        "awu_eod.index = pd.to_datetime(awu_eod.date)\n",
        "awu_alt.index = pd.to_datetime(awu_alt.date)\n",
        "\n",
        "alt_series = awu_alt.value\n",
        "price_series = awu_eod.close\n",
        "time_delta_days=30\n",
        "dailyVol=getDailyVol(alt_series)\n",
        "cusum_threshold=dailyVol.mean()*2\n",
        "label_threshold=1 # 1*20d vol\n",
        "\n",
        "event_index = calculate_events(alt_series, threshold=cusum_threshold)\n",
        "event_labels, event_spans = calculate_labels(close, event_index, label_threshold=label_threshold, time_delta_days=time_delta_days)\n",
        "\n",
        "print(\"Price shape: \",alt_series.shape)\n",
        "print(\"Events shape: \",event_index.shape)\n",
        "print(\"Events Counts:\")\n",
        "print(event_labels.value_counts())\n",
        "\n",
        "weights = calculate_weights(event_spans, close.index)\n",
        "features_df = calculate_features(price_series, alt_series)\n",
        "\n",
        "features_on_events = features_df.loc[event_index]\n",
        "\n",
        "# Convert labels and events to a data frame\n",
        "labels_df = pd.DataFrame(event_labels)\n",
        "labels_df.columns = ['y']\n",
        "\n",
        "# Converts weights to a data frame\n",
        "weights_df = pd.DataFrame(weights)\n",
        "weights_df.columns = ['weights']\n",
        "\n",
        "# Concatenate features to labels\n",
        "df = pd.concat([features_on_events, weights_df, labels_df], axis=1)\n",
        "\n"
      ],
      "execution_count": null,
      "outputs": [
        {
          "output_type": "stream",
          "text": [
            "/usr/local/lib/python3.7/dist-packages/ipykernel_launcher.py:14: DeprecationWarning: The default dtype for empty Series will be 'object' instead of 'float64' in a future version. Specify a dtype explicitly to silence this warning.\n",
            "  \n"
          ],
          "name": "stderr"
        },
        {
          "output_type": "stream",
          "text": [
            "Price shape:  (1198,)\n",
            "Events shape:  (154,)\n",
            "Events Counts:\n",
            "-1    68\n",
            " 1    56\n",
            " 0    25\n",
            "dtype: int64\n"
          ],
          "name": "stdout"
        },
        {
          "output_type": "stream",
          "text": [
            "/usr/local/lib/python3.7/dist-packages/ipykernel_launcher.py:14: DeprecationWarning: The default dtype for empty Series will be 'object' instead of 'float64' in a future version. Specify a dtype explicitly to silence this warning.\n",
            "  \n"
          ],
          "name": "stderr"
        }
      ]
    },
    {
      "cell_type": "code",
      "metadata": {
        "colab": {
          "base_uri": "https://localhost:8080/",
          "height": 202
        },
        "id": "d1_-VZQwmFLo",
        "outputId": "a59a9280-19b2-4a70-e8c3-b2c467eb870e"
      },
      "source": [
        "df.tail()"
      ],
      "execution_count": null,
      "outputs": [
        {
          "output_type": "execute_result",
          "data": {
            "text/html": [
              "<div>\n",
              "<style scoped>\n",
              "    .dataframe tbody tr th:only-of-type {\n",
              "        vertical-align: middle;\n",
              "    }\n",
              "\n",
              "    .dataframe tbody tr th {\n",
              "        vertical-align: top;\n",
              "    }\n",
              "\n",
              "    .dataframe thead th {\n",
              "        text-align: right;\n",
              "    }\n",
              "</style>\n",
              "<table border=\"1\" class=\"dataframe\">\n",
              "  <thead>\n",
              "    <tr style=\"text-align: right;\">\n",
              "      <th></th>\n",
              "      <th>7_day_revenue_delta</th>\n",
              "      <th>7_day_return</th>\n",
              "      <th>7_day_vol</th>\n",
              "      <th>30_day_revenue_delta</th>\n",
              "      <th>30_day_return</th>\n",
              "      <th>30_day_vol</th>\n",
              "      <th>90_day_revenue_delta</th>\n",
              "      <th>90_day_return</th>\n",
              "      <th>90_day_vol</th>\n",
              "      <th>180_day_revenue_delta</th>\n",
              "      <th>180_day_return</th>\n",
              "      <th>180_day_vol</th>\n",
              "      <th>360_day_revenue_delta</th>\n",
              "      <th>360_day_return</th>\n",
              "      <th>360_day_vol</th>\n",
              "      <th>weights</th>\n",
              "      <th>y</th>\n",
              "    </tr>\n",
              "  </thead>\n",
              "  <tbody>\n",
              "    <tr>\n",
              "      <th>2019-12-03</th>\n",
              "      <td>-0.010401</td>\n",
              "      <td>-0.021838</td>\n",
              "      <td>0.113022</td>\n",
              "      <td>-0.056903</td>\n",
              "      <td>0.058620</td>\n",
              "      <td>0.050706</td>\n",
              "      <td>0.000268</td>\n",
              "      <td>0.205087</td>\n",
              "      <td>0.052031</td>\n",
              "      <td>0.017847</td>\n",
              "      <td>-0.042419</td>\n",
              "      <td>0.030333</td>\n",
              "      <td>-0.107352</td>\n",
              "      <td>-0.134744</td>\n",
              "      <td>0.020907</td>\n",
              "      <td>NaN</td>\n",
              "      <td>NaN</td>\n",
              "    </tr>\n",
              "    <tr>\n",
              "      <th>2019-12-04</th>\n",
              "      <td>0.004525</td>\n",
              "      <td>-0.026912</td>\n",
              "      <td>0.117401</td>\n",
              "      <td>-0.040623</td>\n",
              "      <td>0.051489</td>\n",
              "      <td>0.050415</td>\n",
              "      <td>0.017729</td>\n",
              "      <td>0.188861</td>\n",
              "      <td>0.052050</td>\n",
              "      <td>0.040819</td>\n",
              "      <td>-0.051086</td>\n",
              "      <td>0.030320</td>\n",
              "      <td>-0.091073</td>\n",
              "      <td>-0.141875</td>\n",
              "      <td>0.020903</td>\n",
              "      <td>NaN</td>\n",
              "      <td>NaN</td>\n",
              "    </tr>\n",
              "    <tr>\n",
              "      <th>2019-12-06</th>\n",
              "      <td>-0.062095</td>\n",
              "      <td>-0.025916</td>\n",
              "      <td>0.076663</td>\n",
              "      <td>-0.075623</td>\n",
              "      <td>0.037689</td>\n",
              "      <td>0.049929</td>\n",
              "      <td>-0.038359</td>\n",
              "      <td>0.158997</td>\n",
              "      <td>0.052089</td>\n",
              "      <td>-0.000469</td>\n",
              "      <td>-0.057558</td>\n",
              "      <td>0.030060</td>\n",
              "      <td>-0.157978</td>\n",
              "      <td>-0.138337</td>\n",
              "      <td>0.020910</td>\n",
              "      <td>NaN</td>\n",
              "      <td>NaN</td>\n",
              "    </tr>\n",
              "    <tr>\n",
              "      <th>2019-12-17</th>\n",
              "      <td>0.019086</td>\n",
              "      <td>0.026943</td>\n",
              "      <td>0.097023</td>\n",
              "      <td>-0.024455</td>\n",
              "      <td>0.001029</td>\n",
              "      <td>0.051776</td>\n",
              "      <td>0.038047</td>\n",
              "      <td>0.066144</td>\n",
              "      <td>0.032689</td>\n",
              "      <td>0.090854</td>\n",
              "      <td>-0.065044</td>\n",
              "      <td>0.030121</td>\n",
              "      <td>-0.157047</td>\n",
              "      <td>-0.000064</td>\n",
              "      <td>0.020952</td>\n",
              "      <td>NaN</td>\n",
              "      <td>NaN</td>\n",
              "    </tr>\n",
              "    <tr>\n",
              "      <th>2019-12-24</th>\n",
              "      <td>0.006010</td>\n",
              "      <td>0.026270</td>\n",
              "      <td>0.073760</td>\n",
              "      <td>0.019417</td>\n",
              "      <td>0.012935</td>\n",
              "      <td>0.046668</td>\n",
              "      <td>0.049910</td>\n",
              "      <td>0.096116</td>\n",
              "      <td>0.030863</td>\n",
              "      <td>0.102029</td>\n",
              "      <td>-0.032083</td>\n",
              "      <td>0.030059</td>\n",
              "      <td>-0.113051</td>\n",
              "      <td>0.053401</td>\n",
              "      <td>0.020970</td>\n",
              "      <td>NaN</td>\n",
              "      <td>NaN</td>\n",
              "    </tr>\n",
              "  </tbody>\n",
              "</table>\n",
              "</div>"
            ],
            "text/plain": [
              "            7_day_revenue_delta  7_day_return  ...  weights   y\n",
              "2019-12-03            -0.010401     -0.021838  ...      NaN NaN\n",
              "2019-12-04             0.004525     -0.026912  ...      NaN NaN\n",
              "2019-12-06            -0.062095     -0.025916  ...      NaN NaN\n",
              "2019-12-17             0.019086      0.026943  ...      NaN NaN\n",
              "2019-12-24             0.006010      0.026270  ...      NaN NaN\n",
              "\n",
              "[5 rows x 17 columns]"
            ]
          },
          "metadata": {
            "tags": []
          },
          "execution_count": 44
        }
      ]
    },
    {
      "cell_type": "code",
      "metadata": {
        "id": "uEj4cPQZjFNE"
      },
      "source": [
        "from sklearn.ensemble import RandomForestClassifier\n",
        "from sklearn.model_selection import train_test_split\n",
        "from sklearn.metrics import roc_curve, classification_report\n",
        "RANDOM_STATE = 777\n"
      ],
      "execution_count": null,
      "outputs": []
    },
    {
      "cell_type": "code",
      "metadata": {
        "colab": {
          "base_uri": "https://localhost:8080/"
        },
        "id": "ZZX0NEsCmCQx",
        "outputId": "e574f6e6-c97d-4bdd-b33e-ba9cb2ae3055"
      },
      "source": [
        "# Separate data\n",
        "\n",
        "df=df.fillna(0)\n",
        "\n",
        "predictor_columns = [\n",
        "    c for c in df.columns.values if not c in ('y', 'weights')\n",
        "]\n",
        "X = df[predictor_columns]\n",
        "y = df['y']\n",
        "w = df['weights']\n",
        "\n",
        "X_train, X_test, y_train, y_test = train_test_split(X, y, test_size=0.25,\n",
        "                                                    shuffle=False)\n",
        "\n",
        "train_index=X_train.index\n",
        "test_index=X_test.index\n",
        "\n",
        "w_train = w.loc[train_index]\n",
        "w_test = w.loc[test_index]\n",
        "\n",
        "print(X_train, y_train, w_train)"
      ],
      "execution_count": null,
      "outputs": [
        {
          "output_type": "stream",
          "text": [
            "            7_day_revenue_delta  7_day_return  ...  360_day_return  360_day_vol\n",
            "2015-04-23            -0.058080      0.002107  ...       -0.027617     0.012966\n",
            "2015-04-28            -0.032315      0.003338  ...       -0.009025     0.012942\n",
            "2015-05-20            -0.073328     -0.016397  ...       -0.034035     0.012989\n",
            "2015-05-28            -0.071980     -0.029653  ...       -0.109178     0.014027\n",
            "2015-06-16             0.009877      0.000034  ...       -0.105316     0.014014\n",
            "...                         ...           ...  ...             ...          ...\n",
            "2018-07-31             0.020265     -0.009624  ...        0.526409     0.014304\n",
            "2018-08-08            -0.003112     -0.001987  ...        0.544118     0.014284\n",
            "2018-08-10            -0.003038      0.005403  ...        0.552736     0.014284\n",
            "2018-08-15            -0.020102      0.015638  ...        0.592991     0.014361\n",
            "2018-10-02            -0.026113      0.004704  ...        0.592371     0.014695\n",
            "\n",
            "[115 rows x 15 columns] 2015-04-23   -1.0\n",
            "2015-04-28   -1.0\n",
            "2015-05-20   -1.0\n",
            "2015-05-28    0.0\n",
            "2015-06-16   -1.0\n",
            "             ... \n",
            "2018-07-31    1.0\n",
            "2018-08-08   -1.0\n",
            "2018-08-10   -1.0\n",
            "2018-08-15   -1.0\n",
            "2018-10-02   -1.0\n",
            "Name: y, Length: 115, dtype: float64 2015-04-23    0.666667\n",
            "2015-04-28    0.500000\n",
            "2015-05-20    1.000000\n",
            "2015-05-28    0.795455\n",
            "2015-06-16    0.500000\n",
            "                ...   \n",
            "2018-07-31    1.000000\n",
            "2018-08-08    0.595238\n",
            "2018-08-10    0.433333\n",
            "2018-08-15    0.333333\n",
            "2018-10-02    1.000000\n",
            "Name: weights, Length: 115, dtype: float64\n"
          ],
          "name": "stdout"
        }
      ]
    },
    {
      "cell_type": "code",
      "metadata": {
        "colab": {
          "base_uri": "https://localhost:8080/"
        },
        "id": "V8-pFOI-lKnE",
        "outputId": "22cd24ac-a589-4eda-e5fa-43ecc7e850d3"
      },
      "source": [
        "#classifier.fit(X_train, y_train, w_train)\n",
        "#score = classifier.score(X_test, y_test, w_test)\n",
        "#print(f'Finished {i} ({100*score:.1f}%)')\n",
        "\n",
        "n_estimator = 1000\n",
        "rf = RandomForestClassifier(max_depth=2, n_estimators=n_estimator,\n",
        "                            criterion='entropy', random_state=RANDOM_STATE)\n",
        "rf.fit(X_train, y_train, w_train)\n",
        "\n",
        "# The random forest model by itself\n",
        "y_pred_rf = rf.predict_proba(X_test)[:, 1]\n",
        "y_pred = rf.predict(X_test)\n",
        "#fpr_rf, tpr_rf, _ = roc_curve(y_test, y_pred_rf)\n",
        "print(classification_report(y_test, y_pred))\n"
      ],
      "execution_count": null,
      "outputs": [
        {
          "output_type": "stream",
          "text": [
            "              precision    recall  f1-score   support\n",
            "\n",
            "        -1.0       0.00      0.00      0.00        17\n",
            "         0.0       0.00      0.00      0.00         9\n",
            "         1.0       0.34      0.77      0.48        13\n",
            "\n",
            "    accuracy                           0.26        39\n",
            "   macro avg       0.11      0.26      0.16        39\n",
            "weighted avg       0.11      0.26      0.16        39\n",
            "\n"
          ],
          "name": "stdout"
        }
      ]
    },
    {
      "cell_type": "code",
      "metadata": {
        "colab": {
          "base_uri": "https://localhost:8080/",
          "height": 294
        },
        "id": "KL2A2vBCnV0x",
        "outputId": "5daa11b1-9ce0-4c30-b349-cad64d6c3866"
      },
      "source": [
        "X_train.describe()"
      ],
      "execution_count": null,
      "outputs": [
        {
          "output_type": "execute_result",
          "data": {
            "text/html": [
              "<div>\n",
              "<style scoped>\n",
              "    .dataframe tbody tr th:only-of-type {\n",
              "        vertical-align: middle;\n",
              "    }\n",
              "\n",
              "    .dataframe tbody tr th {\n",
              "        vertical-align: top;\n",
              "    }\n",
              "\n",
              "    .dataframe thead th {\n",
              "        text-align: right;\n",
              "    }\n",
              "</style>\n",
              "<table border=\"1\" class=\"dataframe\">\n",
              "  <thead>\n",
              "    <tr style=\"text-align: right;\">\n",
              "      <th></th>\n",
              "      <th>7_day_revenue_delta</th>\n",
              "      <th>7_day_return</th>\n",
              "      <th>7_day_vol</th>\n",
              "      <th>30_day_revenue_delta</th>\n",
              "      <th>30_day_return</th>\n",
              "      <th>30_day_vol</th>\n",
              "      <th>90_day_revenue_delta</th>\n",
              "      <th>90_day_return</th>\n",
              "      <th>90_day_vol</th>\n",
              "      <th>180_day_revenue_delta</th>\n",
              "      <th>180_day_return</th>\n",
              "      <th>180_day_vol</th>\n",
              "      <th>360_day_revenue_delta</th>\n",
              "      <th>360_day_return</th>\n",
              "      <th>360_day_vol</th>\n",
              "    </tr>\n",
              "  </thead>\n",
              "  <tbody>\n",
              "    <tr>\n",
              "      <th>count</th>\n",
              "      <td>115.000000</td>\n",
              "      <td>115.000000</td>\n",
              "      <td>115.000000</td>\n",
              "      <td>113.000000</td>\n",
              "      <td>115.000000</td>\n",
              "      <td>115.000000</td>\n",
              "      <td>108.000000</td>\n",
              "      <td>115.000000</td>\n",
              "      <td>115.000000</td>\n",
              "      <td>99.000000</td>\n",
              "      <td>115.000000</td>\n",
              "      <td>115.000000</td>\n",
              "      <td>77.000000</td>\n",
              "      <td>115.000000</td>\n",
              "      <td>115.000000</td>\n",
              "    </tr>\n",
              "    <tr>\n",
              "      <th>mean</th>\n",
              "      <td>-0.005003</td>\n",
              "      <td>0.004097</td>\n",
              "      <td>0.097828</td>\n",
              "      <td>0.000791</td>\n",
              "      <td>0.010200</td>\n",
              "      <td>0.050465</td>\n",
              "      <td>0.002588</td>\n",
              "      <td>0.034702</td>\n",
              "      <td>0.030584</td>\n",
              "      <td>0.010989</td>\n",
              "      <td>0.075001</td>\n",
              "      <td>0.021673</td>\n",
              "      <td>0.036239</td>\n",
              "      <td>0.081270</td>\n",
              "      <td>0.015066</td>\n",
              "    </tr>\n",
              "    <tr>\n",
              "      <th>std</th>\n",
              "      <td>0.033002</td>\n",
              "      <td>0.026822</td>\n",
              "      <td>0.061879</td>\n",
              "      <td>0.043010</td>\n",
              "      <td>0.090307</td>\n",
              "      <td>0.014868</td>\n",
              "      <td>0.061300</td>\n",
              "      <td>0.174287</td>\n",
              "      <td>0.005296</td>\n",
              "      <td>0.079521</td>\n",
              "      <td>0.234309</td>\n",
              "      <td>0.002578</td>\n",
              "      <td>0.064174</td>\n",
              "      <td>0.370045</td>\n",
              "      <td>0.001195</td>\n",
              "    </tr>\n",
              "    <tr>\n",
              "      <th>min</th>\n",
              "      <td>-0.084517</td>\n",
              "      <td>-0.082112</td>\n",
              "      <td>0.023342</td>\n",
              "      <td>-0.119059</td>\n",
              "      <td>-0.238824</td>\n",
              "      <td>0.028132</td>\n",
              "      <td>-0.155866</td>\n",
              "      <td>-0.419751</td>\n",
              "      <td>0.019293</td>\n",
              "      <td>-0.125332</td>\n",
              "      <td>-0.364778</td>\n",
              "      <td>0.016017</td>\n",
              "      <td>-0.149186</td>\n",
              "      <td>-0.585430</td>\n",
              "      <td>0.012942</td>\n",
              "    </tr>\n",
              "    <tr>\n",
              "      <th>25%</th>\n",
              "      <td>-0.030640</td>\n",
              "      <td>-0.009009</td>\n",
              "      <td>0.065284</td>\n",
              "      <td>-0.025427</td>\n",
              "      <td>-0.042289</td>\n",
              "      <td>0.039135</td>\n",
              "      <td>-0.033207</td>\n",
              "      <td>-0.093396</td>\n",
              "      <td>0.027092</td>\n",
              "      <td>-0.055275</td>\n",
              "      <td>-0.131512</td>\n",
              "      <td>0.020410</td>\n",
              "      <td>-0.013663</td>\n",
              "      <td>-0.268516</td>\n",
              "      <td>0.014034</td>\n",
              "    </tr>\n",
              "    <tr>\n",
              "      <th>50%</th>\n",
              "      <td>-0.003349</td>\n",
              "      <td>0.002107</td>\n",
              "      <td>0.086238</td>\n",
              "      <td>0.000496</td>\n",
              "      <td>0.003767</td>\n",
              "      <td>0.046419</td>\n",
              "      <td>0.003005</td>\n",
              "      <td>0.075646</td>\n",
              "      <td>0.030643</td>\n",
              "      <td>-0.000155</td>\n",
              "      <td>0.122312</td>\n",
              "      <td>0.022018</td>\n",
              "      <td>0.040883</td>\n",
              "      <td>0.082450</td>\n",
              "      <td>0.015014</td>\n",
              "    </tr>\n",
              "    <tr>\n",
              "      <th>75%</th>\n",
              "      <td>0.020605</td>\n",
              "      <td>0.018949</td>\n",
              "      <td>0.116194</td>\n",
              "      <td>0.031420</td>\n",
              "      <td>0.074590</td>\n",
              "      <td>0.059560</td>\n",
              "      <td>0.051744</td>\n",
              "      <td>0.143287</td>\n",
              "      <td>0.033297</td>\n",
              "      <td>0.071976</td>\n",
              "      <td>0.270606</td>\n",
              "      <td>0.023081</td>\n",
              "      <td>0.093560</td>\n",
              "      <td>0.441880</td>\n",
              "      <td>0.015994</td>\n",
              "    </tr>\n",
              "    <tr>\n",
              "      <th>max</th>\n",
              "      <td>0.076597</td>\n",
              "      <td>0.116857</td>\n",
              "      <td>0.355818</td>\n",
              "      <td>0.095419</td>\n",
              "      <td>0.228252</td>\n",
              "      <td>0.091591</td>\n",
              "      <td>0.125250</td>\n",
              "      <td>0.347655</td>\n",
              "      <td>0.041247</td>\n",
              "      <td>0.204051</td>\n",
              "      <td>0.430274</td>\n",
              "      <td>0.027073</td>\n",
              "      <td>0.159496</td>\n",
              "      <td>0.645003</td>\n",
              "      <td>0.017312</td>\n",
              "    </tr>\n",
              "  </tbody>\n",
              "</table>\n",
              "</div>"
            ],
            "text/plain": [
              "       7_day_revenue_delta  7_day_return  ...  360_day_return  360_day_vol\n",
              "count           115.000000    115.000000  ...      115.000000   115.000000\n",
              "mean             -0.005003      0.004097  ...        0.081270     0.015066\n",
              "std               0.033002      0.026822  ...        0.370045     0.001195\n",
              "min              -0.084517     -0.082112  ...       -0.585430     0.012942\n",
              "25%              -0.030640     -0.009009  ...       -0.268516     0.014034\n",
              "50%              -0.003349      0.002107  ...        0.082450     0.015014\n",
              "75%               0.020605      0.018949  ...        0.441880     0.015994\n",
              "max               0.076597      0.116857  ...        0.645003     0.017312\n",
              "\n",
              "[8 rows x 15 columns]"
            ]
          },
          "metadata": {
            "tags": []
          },
          "execution_count": 53
        }
      ]
    },
    {
      "cell_type": "code",
      "metadata": {
        "id": "kpjuvu4mlT5T"
      },
      "source": [
        "\n",
        "\n",
        "n_estimator = 10000\n",
        "rf = RandomForestClassifier(max_depth=2, n_estimators=n_estimator,\n",
        "                            criterion='entropy', random_state=RANDOM_STATE)\n",
        "rf.fit(X_train, y_train)\n",
        "\n",
        "# The random forest model by itself\n",
        "y_pred_rf = rf.predict_proba(X_test)[:, 1]\n",
        "y_pred = rf.predict(X_test)\n",
        "fpr_rf, tpr_rf, _ = roc_curve(y_test, y_pred_rf)\n",
        "print(classification_report(y_test, y_pred))\n",
        "\n",
        "plt.figure(1)\n",
        "plt.plot([0, 1], [0, 1], 'k--')\n",
        "plt.plot(fpr_rf, tpr_rf, label='RF')\n",
        "plt.xlabel('False positive rate')\n",
        "plt.ylabel('True positive rate')\n",
        "plt.title('ROC curve')\n",
        "plt.legend(loc='best')\n",
        "plt.show()"
      ],
      "execution_count": null,
      "outputs": []
    },
    {
      "cell_type": "code",
      "metadata": {
        "id": "o8-khhAwlT7T"
      },
      "source": [
        ""
      ],
      "execution_count": null,
      "outputs": []
    },
    {
      "cell_type": "code",
      "metadata": {
        "id": "gacqPB-olKo-"
      },
      "source": [
        ""
      ],
      "execution_count": null,
      "outputs": []
    },
    {
      "cell_type": "code",
      "metadata": {
        "id": "U-1CuQHYhNoD"
      },
      "source": [
        "def calculate_non_uniform_lagged_change(series: pd.Series, n_days: int):\n",
        "    \"\"\"\n",
        "    Use pd.Series.searchsorted to measure the lagged change in a non-uniformly \n",
        "    spaced time series over n_days of calendar time. \n",
        "    \"\"\"\n",
        "    # Get mapping from now to n_days ago at every point\n",
        "    _timedelta: pd.Timedelta = pd.Timedelta(days=n_days)\n",
        "    _idx: pd.Series = series.index.searchsorted(series.index - _timedelta)\n",
        "    _idx = _idx[_idx > 0]\n",
        "    # Get the last len(series) - n_days values\n",
        "    _series = series.iloc[-_idx.shape[0]:]\n",
        "    # Build a padding of NA values\n",
        "    _pad_length = series.shape[0] - _idx.shape[0]\n",
        "    _na_pad = pd.Series(None, index=series.index[:_pad_length])\n",
        "    # Get the corresonding lagged values\n",
        "    _lagged_series = series.iloc[_idx]\n",
        "    # Measure the difference\n",
        "    _diff = pd.Series(_series.values-_lagged_series.values, index=_series.index)\n",
        "    return pd.concat([_na_pad, _diff])\n",
        "\n",
        "def calculate_cusum_events(series: pd.Series, \n",
        "    filter_threshold: float) -> pd.DatetimeIndex:\n",
        "    \"\"\"\n",
        "    Calculate symmetric cusum filter and corresponding events\n",
        "    \"\"\"\n",
        "    event_dates = list()\n",
        "    s_up = 0\n",
        "    s_down = 0\n",
        "    for date, price in series.items():\n",
        "        s_up = max(0, s_up + price)\n",
        "        s_down = min(0, s_down + price)\n",
        "        if s_up > filter_threshold:\n",
        "            s_up = 0\n",
        "            event_dates.append(date)\n",
        "        elif s_down < -filter_threshold:\n",
        "            s_down = 0\n",
        "            event_dates.append(date)\n",
        "    return pd.DatetimeIndex(event_dates)\n",
        "\n",
        "from typing import Tuple\n",
        "\n",
        "\n",
        "def calculate_events_for_revenue_series(series: pd.Series, \n",
        "    filter_threshold: float, lookback: int=365) -> pd.DatetimeIndex:\n",
        "    \"\"\"\n",
        "    Calculate the symmetric cusum filter to generate events on YoY changes in \n",
        "    the log revenue series\n",
        "    \"\"\"\n",
        "    series = np.log(series)\n",
        "    series = calculate_non_uniform_lagged_change(series, lookback)\n",
        "    return calculate_cusum_events(series, filter_threshold)\n",
        "\n",
        "\n",
        "def calculate_events(revenue_series: pd.Series, threshold):\n",
        "    return calculate_events_for_revenue_series(\n",
        "        revenue_series,\n",
        "        filter_threshold=threshold,\n",
        "        lookback=1,\n",
        "    )\n",
        "\n",
        "\n",
        "def compute_triple_barrier_labels(\n",
        "    price_series: pd.Series, \n",
        "    event_index: pd.Series, \n",
        "    time_delta_days: int, \n",
        "    upper_delta: float=None, \n",
        "    lower_delta: float=None, \n",
        "    vol_span: int=20, \n",
        "    upper_z: float=None,\n",
        "    lower_z: float=None,\n",
        "    upper_label: int=1, \n",
        "    lower_label: int=-1) -> Tuple[pd.Series, pd.Series]:\n",
        "    \"\"\"\n",
        "    Calculate event labels according to the triple-barrier method. \n",
        "    Return a series with both the original events and the labels. Labels 1, 0, \n",
        "    and -1 correspond to upper barrier breach, vertical barrier breach, and \n",
        "    lower barrier breach, respectively. \n",
        "    Also return series where the index is the start date of the label and the \n",
        "    values are the end dates of the label.\n",
        "    \"\"\"\n",
        "\n",
        "    timedelta = pd.Timedelta(days=time_delta_days)\n",
        "    series = pd.Series(np.log(price_series.values), index=price_series.index)\n",
        "\n",
        "    # A list with elements of {-1, 0, 1} indicating the outcome of the events\n",
        "    labels = list()\n",
        "    label_dates = list()\n",
        "\n",
        "    if upper_z or lower_z:\n",
        "        volatility = series.ewm(span=vol_span).std()\n",
        "        volatility *= np.sqrt(time_delta_days / vol_span)\n",
        "\n",
        "    for event_date in event_index:\n",
        "        date_barrier = event_date + timedelta\n",
        "\n",
        "        start_price = series.loc[event_date]\n",
        "        log_returns = series.loc[event_date:date_barrier] - start_price\n",
        "\n",
        "        # First element of tuple is 1 or -1 indicating upper or lower barrier\n",
        "        # Second element of tuple is first date when barrier was crossed\n",
        "        candidates: List[Tuple[int, pd.Timestamp]] = list()\n",
        "\n",
        "        # Add the first upper or lower date to candidates\n",
        "        if upper_delta:\n",
        "            _date = log_returns[log_returns > upper_delta].first_valid_index()\n",
        "            if _date:\n",
        "                candidates.append((upper_label, _date))\n",
        "    \n",
        "        if lower_delta:\n",
        "            _date = log_returns[log_returns < lower_delta].first_valid_index()\n",
        "            if _date:\n",
        "                candidates.append((lower_label, _date))\n",
        "\n",
        "        # Add the first upper_z and lower_z to candidates\n",
        "        if upper_z:\n",
        "            upper_barrier = upper_z * volatility[event_date]\n",
        "            _date = log_returns[log_returns > upper_barrier].first_valid_index()\n",
        "            if _date:\n",
        "                candidates.append((upper_label, _date))\n",
        "\n",
        "        if lower_z:\n",
        "            lower_barrier = lower_z * volatility[event_date]\n",
        "            _date = log_returns[log_returns < lower_barrier].first_valid_index()\n",
        "            if _date:\n",
        "                candidates.append((lower_label, _date))\n",
        "\n",
        "        if candidates:\n",
        "            # If any candidates, return label for first date\n",
        "            label, label_date = min(candidates, key=lambda x: x[1])\n",
        "        else:\n",
        "            # If there were no candidates, time barrier was touched\n",
        "            label, label_date = 0, date_barrier\n",
        "\n",
        "        labels.append(label)\n",
        "        label_dates.append(label_date)\n",
        "\n",
        "    label_series = pd.Series(labels, index=event_index)\n",
        "    event_spans = pd.Series(label_dates, index=event_index)\n",
        "\n",
        "    return label_series, event_spans\n",
        "\n",
        "\n",
        "def calculate_labels(price_series, event_index, label_threshold, time_delta_days) -> Tuple[pd.Series, pd.Series]:\n",
        "    \"\"\"\n",
        "    Calculate labels based on the triple barrier method. Return a series of \n",
        "    event labels index by event start date, and return a series of event end \n",
        "    dates indexed by event start date.\n",
        "    \"\"\"\n",
        "\n",
        "    # Remove event that don't have a proper chance to materialize\n",
        "    time_delta_days = time_delta_days\n",
        "    max_date = price_series.index.max()\n",
        "    cutoff = max_date - pd.Timedelta(days=time_delta_days)\n",
        "    event_index = event_index[event_index <= cutoff]\n",
        "\n",
        "    # Use triple barrier method\n",
        "    event_labels, event_spans = compute_triple_barrier_labels(\n",
        "        price_series,\n",
        "        event_index,\n",
        "        time_delta_days=time_delta_days,\n",
        "        upper_z = label_threshold,\n",
        "        lower_z = -label_threshold,\n",
        "    )\n",
        "\n",
        "    return event_labels, event_spans\n"
      ],
      "execution_count": null,
      "outputs": []
    },
    {
      "cell_type": "code",
      "metadata": {
        "id": "cfpKyKvNhNqY"
      },
      "source": [
        "## https://github.com/chrisconlan/algorithmic-trading-with-python/blob/1f615f488a3faa6274a701afccfcf977dfa83570/src/pypm/weights.py\n",
        "import numpy as np\n",
        "import pandas as pd\n",
        "from scipy.stats import hmean\n",
        "\n",
        "def calculate_uniqueness(event_spans: pd.Series, price_index: pd.Series) -> pd.Series:\n",
        "    \"\"\"\n",
        "    event_spans is a series with an index of start dates and values of end dates\n",
        "    of a label.\n",
        "    price_index is an index of underlying dates for the event\n",
        "    Returns a series of uniqueness values that can be used as weights, indexed \n",
        "    as the event start dates. Weights may need to be standardized again before \n",
        "    training.\n",
        "    \"\"\"\n",
        "\n",
        "    # Create a binary dataframe \n",
        "    # value is 1 during event span and 0 otherwise\n",
        "    columns = range(event_spans.shape[0])\n",
        "    df = pd.DataFrame(0, index=price_index, columns=columns)\n",
        "\n",
        "    for i, (event_start, event_end) in enumerate(event_spans.items()):\n",
        "        df[i].loc[event_start:event_end] += 1\n",
        "\n",
        "    # Compute concurrency over event span then calculate uniqueness\n",
        "    avg_uniquenesses = list()\n",
        "    for i, (event_start, event_end) in enumerate(event_spans.items()):\n",
        "        concurrency: pd.Series = df.loc[event_start:event_end].sum(axis=1)\n",
        "        avg_uniqueness = 1 / hmean(concurrency)\n",
        "        avg_uniquenesses.append(avg_uniqueness)\n",
        "\n",
        "    return pd.Series(avg_uniquenesses, index=event_spans.index)\n",
        "\n",
        "  \n",
        "def calculate_weights(event_spans: pd.Series, price_index: pd.Series) -> pd.Series:\n",
        "    return calculate_uniqueness(event_spans, price_index)"
      ],
      "execution_count": null,
      "outputs": []
    },
    {
      "cell_type": "code",
      "metadata": {
        "id": "TXfMKRmnio8D"
      },
      "source": [
        "def calculate_simple_moving_average(series: pd.Series, n: int=20) -> pd.Series:\n",
        "    \"\"\"Calculates the simple moving average\"\"\"\n",
        "    return series.rolling(n).mean()\n",
        "\n",
        "\n",
        "def calculate_simple_moving_sample_stdev(series: pd.Series, n: int=20) -> pd.Series:\n",
        "    \"\"\"Calculates the simple moving average\"\"\"\n",
        "    return series.rolling(n).std()\n",
        "\n",
        "def calculate_log_return_series(series: pd.Series) -> pd.Series:\n",
        "    \"\"\"\n",
        "    Same as calculate_return_series but with log returns\n",
        "    \"\"\"\n",
        "    shifted_series = series.shift(1, axis=0)\n",
        "    return pd.Series(np.log(series / shifted_series))\n",
        "\n",
        "\n",
        "_calc_delta = calculate_non_uniform_lagged_change\n",
        "_calc_ma = calculate_simple_moving_average\n",
        "_calc_log_return = calculate_log_return_series\n",
        "\n",
        "def _calc_rolling_vol(series, n):\n",
        "    return series.rolling(n).std() * np.sqrt(252 / n)\n",
        "\n",
        "def calculate_features(price_series, revenue_series) -> pd.DataFrame:\n",
        "    \"\"\"\n",
        "    Calculate any and all potentially useful features. Return as a dataframe.\n",
        "    \"\"\"\n",
        "\n",
        "    log_revenue = np.log(revenue_series)\n",
        "    log_prices = np.log(price_series)\n",
        "\n",
        "    log_revenue_ma = _calc_ma(log_revenue, 10)\n",
        "    log_prices_ma = _calc_ma(log_prices, 10)\n",
        "\n",
        "    log_returns = _calc_log_return(price_series)\n",
        "\n",
        "    features_by_name = dict()\n",
        "\n",
        "    for i in [7, 30, 90, 180, 360]:\n",
        "\n",
        "        rev_feature = _calc_delta(log_revenue_ma, i)\n",
        "        price_feature = _calc_delta(log_prices_ma, i)\n",
        "        vol_feature = _calc_rolling_vol(log_returns, i)\n",
        "\n",
        "        features_by_name.update({\n",
        "            f'{i}_day_revenue_delta': rev_feature,\n",
        "            f'{i}_day_return': price_feature,\n",
        "            f'{i}_day_vol': vol_feature,\n",
        "        })\n",
        "\n",
        "    features_df = pd.DataFrame(features_by_name)    \n",
        "    return features_df"
      ],
      "execution_count": null,
      "outputs": []
    },
    {
      "cell_type": "code",
      "metadata": {
        "id": "G3pVBLoChNsu"
      },
      "source": [
        ""
      ],
      "execution_count": null,
      "outputs": []
    },
    {
      "cell_type": "code",
      "metadata": {
        "id": "v9ShSlkXhNu1"
      },
      "source": [
        ""
      ],
      "execution_count": null,
      "outputs": []
    }
  ]
}